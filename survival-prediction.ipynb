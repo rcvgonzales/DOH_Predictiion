{
 "cells": [
  {
   "cell_type": "markdown",
   "id": "bb5b2e81-5af5-4990-b51a-7390581cc7c4",
   "metadata": {},
   "source": [
    "<div style=\"text-align:center\">\n",
    "    <img src=\"DOH.jpg\" alt=\"sample image for the notebook\" width=\"600\">\n",
    "</div>\n",
    "\n",
    "<center><h1>Predicting Filipino COVID-19 Survival</h1></center>\n",
    "<center><em>A Deep Learning Model with an FNN Architecture for Predicting Survival</em></center>\n",
    "<hr>\n",
    "\n",
    "\n",
    "This project tackles the challenge of predicting Filipino patients' COVID-19 survival time and recovery status. We leverage a Feedforward Neural Network (FNN) built with TensorFlow to analyze patient data and estimate:\n",
    "\n",
    "**Survival Time:** Days from symptom onset to recovery/death (removal date).\n",
    "\n",
    "**Recovery Status:** Recovered or Dead, based on removal date.\n",
    "\n",
    "The model takes \"Sex\" and \"Age\" as input features. We plan to experiment with different hyperparameters to optimize model performance. This project provides a framework for predicting COVID-19 outcomes using readily available data points. The model can be further developed to consider additional factors and refined for improved accuracy.\n",
    "\n",
    "\n",
    "***\n",
    "\n",
    "<a name=\"top\"></a>\n",
    "#### Table of Contents:\n",
    "\n",
    "[ref0]: #dat_prep\n",
    "- [Data Preperation][ref0]\n",
    "\n",
    "[ref1]: #data_preprocessing\n",
    "- [Data Preprocessing][ref1]\n",
    "\n",
    "[ref3]: #feature_extraction\n",
    "- [Feature Extraction][ref3]\n",
    "\n",
    "\n",
    "***"
   ]
  },
  {
   "cell_type": "code",
   "execution_count": 1,
   "id": "b5b0ed2b-f143-48f7-9118-2d43b59c5eb7",
   "metadata": {},
   "outputs": [],
   "source": [
    "# Importing of Modules\n",
    "import os\n",
    "import pandas as pd\n",
    "import numpy as np\n",
    "import matplotlib.pyplot as plt\n",
    "import tensorflow as tf\n",
    "\n",
    "from lifelines.statistics import logrank_test\n",
    "from sklearn.model_selection import train_test_split, cross_val_score, StratifiedKFold\n",
    "from sklearn.preprocessing import StandardScaler, LabelEncoder\n",
    "from tensorflow.keras.models import Model\n",
    "from tensorflow.keras.layers import Input, Dense, Dropout\n",
    "from tensorflow.keras.callbacks import EarlyStopping\n",
    "from tensorflow.keras.utils import to_categorical\n",
    "from tensorflow.keras import regularizers\n",
    "from sklearn.metrics import accuracy_score, precision_score, recall_score, f1_score\n",
    "from sklearn.model_selection import GridSearchCV, StratifiedKFold\n",
    "from keras.models import Sequential"
   ]
  },
  {
   "cell_type": "markdown",
   "id": "35bab7ee-29dd-4eb5-9c3b-0e3de48bf9ae",
   "metadata": {},
   "source": [
    "<a name=\"dat_prep\"></a>\n",
    "# Data Preperation\n",
    "***\n",
    "Before training, we meticulously prepare the data. We'll clean it for inconsistencies, missing values, and outliers. We'll then select the most relevant features like pre-existing conditions (beyond sex and age) and potentially create new informative ones. Finally, we'll address missing data using imputation techniques. This ensures the model learns from high-quality information for accurate predictions."
   ]
  },
  {
   "cell_type": "code",
   "execution_count": 2,
   "id": "856b8730-1d0d-476f-a817-3732409ff251",
   "metadata": {},
   "outputs": [],
   "source": [
    "batch_data_0 = pd.read_csv('/Users/reginaldgonzales/Desktop/GITHUB/DOH_Prediction/dataset/DOH COVID Data Drop_ 20240103 (2020-2023) - 04 Case Information_batch_0.csv', low_memory=False)\n",
    "batch_data_1 = pd.read_csv('/Users/reginaldgonzales/Desktop/GITHUB/DOH_Prediction/dataset/DOH COVID Data Drop_ 20240103 (2020-2023) - 04 Case Information_batch_1.csv', low_memory=False)\n",
    "batch_data_2 = pd.read_csv('/Users/reginaldgonzales/Desktop/GITHUB/DOH_Prediction/dataset/DOH COVID Data Drop_ 20240103 (2020-2023) - 04 Case Information_batch_2.csv', low_memory=False)\n",
    "batch_data_3 = pd.read_csv('/Users/reginaldgonzales/Desktop/GITHUB/DOH_Prediction/dataset/DOH COVID Data Drop_ 20240103 (2020-2023) - 04 Case Information_batch_3.csv', low_memory=False)\n",
    "batch_data_4 = pd.read_csv('/Users/reginaldgonzales/Desktop/GITHUB/DOH_Prediction/dataset/DOH COVID Data Drop_ 20240103 (2020-2023) - 04 Case Information_batch_4.csv', low_memory=False)"
   ]
  },
  {
   "cell_type": "code",
   "execution_count": 3,
   "id": "fee44974-d66a-4181-b735-fe19b933200a",
   "metadata": {},
   "outputs": [],
   "source": [
    "df = pd.concat([batch_data_0, batch_data_1, batch_data_2, batch_data_3, batch_data_4], ignore_index=True)"
   ]
  },
  {
   "cell_type": "code",
   "execution_count": 4,
   "id": "e40a8768-45b9-461c-8798-ef28bda7215f",
   "metadata": {},
   "outputs": [
    {
     "data": {
      "text/html": [
       "<div>\n",
       "<style scoped>\n",
       "    .dataframe tbody tr th:only-of-type {\n",
       "        vertical-align: middle;\n",
       "    }\n",
       "\n",
       "    .dataframe tbody tr th {\n",
       "        vertical-align: top;\n",
       "    }\n",
       "\n",
       "    .dataframe thead th {\n",
       "        text-align: right;\n",
       "    }\n",
       "</style>\n",
       "<table border=\"1\" class=\"dataframe\">\n",
       "  <thead>\n",
       "    <tr style=\"text-align: right;\">\n",
       "      <th></th>\n",
       "      <th>CaseCode</th>\n",
       "      <th>Age</th>\n",
       "      <th>AgeGroup</th>\n",
       "      <th>Sex</th>\n",
       "      <th>DateSpecimen</th>\n",
       "      <th>DateResultRelease</th>\n",
       "      <th>DateRepConf</th>\n",
       "      <th>DateDied</th>\n",
       "      <th>DateRecover</th>\n",
       "      <th>RemovalType</th>\n",
       "      <th>...</th>\n",
       "      <th>ProvRes</th>\n",
       "      <th>CityMunRes</th>\n",
       "      <th>CityMuniPSGC</th>\n",
       "      <th>BarangayRes</th>\n",
       "      <th>BarangayPSGC</th>\n",
       "      <th>HealthStatus</th>\n",
       "      <th>Quarantined</th>\n",
       "      <th>DateOnset</th>\n",
       "      <th>Pregnanttab</th>\n",
       "      <th>ValidationStatus</th>\n",
       "    </tr>\n",
       "  </thead>\n",
       "  <tbody>\n",
       "    <tr>\n",
       "      <th>0</th>\n",
       "      <td>C404174</td>\n",
       "      <td>38.0</td>\n",
       "      <td>35 to 39</td>\n",
       "      <td>FEMALE</td>\n",
       "      <td>NaN</td>\n",
       "      <td>2020-01-30</td>\n",
       "      <td>2020-01-30</td>\n",
       "      <td>NaN</td>\n",
       "      <td>NaN</td>\n",
       "      <td>RECOVERED</td>\n",
       "      <td>...</td>\n",
       "      <td>NEGROS ORIENTAL</td>\n",
       "      <td>DUMAGUETE CITY (CAPITAL)</td>\n",
       "      <td>PH074610000</td>\n",
       "      <td>NaN</td>\n",
       "      <td>NaN</td>\n",
       "      <td>RECOVERED</td>\n",
       "      <td>NO</td>\n",
       "      <td>2020-01-21</td>\n",
       "      <td>NO</td>\n",
       "      <td>Removal Type is \"Recovered\", but no Recovered ...</td>\n",
       "    </tr>\n",
       "    <tr>\n",
       "      <th>1</th>\n",
       "      <td>C462688</td>\n",
       "      <td>44.0</td>\n",
       "      <td>40 to 44</td>\n",
       "      <td>MALE</td>\n",
       "      <td>NaN</td>\n",
       "      <td>2020-01-30</td>\n",
       "      <td>2020-02-03</td>\n",
       "      <td>2020-02-01</td>\n",
       "      <td>NaN</td>\n",
       "      <td>DIED</td>\n",
       "      <td>...</td>\n",
       "      <td>NEGROS ORIENTAL</td>\n",
       "      <td>DUMAGUETE CITY (CAPITAL)</td>\n",
       "      <td>PH074610000</td>\n",
       "      <td>NaN</td>\n",
       "      <td>NaN</td>\n",
       "      <td>DIED</td>\n",
       "      <td>NO</td>\n",
       "      <td>2020-01-18</td>\n",
       "      <td>NaN</td>\n",
       "      <td>NaN</td>\n",
       "    </tr>\n",
       "    <tr>\n",
       "      <th>2</th>\n",
       "      <td>C387710</td>\n",
       "      <td>60.0</td>\n",
       "      <td>60 to 64</td>\n",
       "      <td>FEMALE</td>\n",
       "      <td>2020-01-23</td>\n",
       "      <td>2020-01-30</td>\n",
       "      <td>2020-02-05</td>\n",
       "      <td>NaN</td>\n",
       "      <td>2020-01-31</td>\n",
       "      <td>RECOVERED</td>\n",
       "      <td>...</td>\n",
       "      <td>BOHOL</td>\n",
       "      <td>PANGLAO</td>\n",
       "      <td>PH071233000</td>\n",
       "      <td>NaN</td>\n",
       "      <td>NaN</td>\n",
       "      <td>RECOVERED</td>\n",
       "      <td>NO</td>\n",
       "      <td>2020-01-21</td>\n",
       "      <td>NO</td>\n",
       "      <td>Case has Admitting Facility but is not Admitte...</td>\n",
       "    </tr>\n",
       "    <tr>\n",
       "      <th>3</th>\n",
       "      <td>C377460</td>\n",
       "      <td>49.0</td>\n",
       "      <td>45 to 49</td>\n",
       "      <td>MALE</td>\n",
       "      <td>NaN</td>\n",
       "      <td>NaN</td>\n",
       "      <td>2020-03-06</td>\n",
       "      <td>NaN</td>\n",
       "      <td>NaN</td>\n",
       "      <td>RECOVERED</td>\n",
       "      <td>...</td>\n",
       "      <td>BATANGAS</td>\n",
       "      <td>SANTO TOMAS</td>\n",
       "      <td>PH041028000</td>\n",
       "      <td>NaN</td>\n",
       "      <td>NaN</td>\n",
       "      <td>RECOVERED</td>\n",
       "      <td>NO</td>\n",
       "      <td>NaN</td>\n",
       "      <td>NaN</td>\n",
       "      <td>Case has Admitting Facility but is not Admitte...</td>\n",
       "    </tr>\n",
       "    <tr>\n",
       "      <th>4</th>\n",
       "      <td>C498051</td>\n",
       "      <td>63.0</td>\n",
       "      <td>60 to 64</td>\n",
       "      <td>MALE</td>\n",
       "      <td>2020-03-05</td>\n",
       "      <td>NaN</td>\n",
       "      <td>2020-03-06</td>\n",
       "      <td>2020-03-11</td>\n",
       "      <td>NaN</td>\n",
       "      <td>DIED</td>\n",
       "      <td>...</td>\n",
       "      <td>RIZAL</td>\n",
       "      <td>CAINTA</td>\n",
       "      <td>PH045805000</td>\n",
       "      <td>NaN</td>\n",
       "      <td>NaN</td>\n",
       "      <td>DIED</td>\n",
       "      <td>NO</td>\n",
       "      <td>NaN</td>\n",
       "      <td>NaN</td>\n",
       "      <td>Age or Birthdate is Invalid\\nCase has Lab Resu...</td>\n",
       "    </tr>\n",
       "  </tbody>\n",
       "</table>\n",
       "<p>5 rows × 23 columns</p>\n",
       "</div>"
      ],
      "text/plain": [
       "  CaseCode   Age  AgeGroup     Sex DateSpecimen DateResultRelease DateRepConf  \\\n",
       "0  C404174  38.0  35 to 39  FEMALE          NaN        2020-01-30  2020-01-30   \n",
       "1  C462688  44.0  40 to 44    MALE          NaN        2020-01-30  2020-02-03   \n",
       "2  C387710  60.0  60 to 64  FEMALE   2020-01-23        2020-01-30  2020-02-05   \n",
       "3  C377460  49.0  45 to 49    MALE          NaN               NaN  2020-03-06   \n",
       "4  C498051  63.0  60 to 64    MALE   2020-03-05               NaN  2020-03-06   \n",
       "\n",
       "     DateDied DateRecover RemovalType  ...          ProvRes  \\\n",
       "0         NaN         NaN   RECOVERED  ...  NEGROS ORIENTAL   \n",
       "1  2020-02-01         NaN        DIED  ...  NEGROS ORIENTAL   \n",
       "2         NaN  2020-01-31   RECOVERED  ...            BOHOL   \n",
       "3         NaN         NaN   RECOVERED  ...         BATANGAS   \n",
       "4  2020-03-11         NaN        DIED  ...            RIZAL   \n",
       "\n",
       "                 CityMunRes CityMuniPSGC BarangayRes BarangayPSGC  \\\n",
       "0  DUMAGUETE CITY (CAPITAL)  PH074610000         NaN          NaN   \n",
       "1  DUMAGUETE CITY (CAPITAL)  PH074610000         NaN          NaN   \n",
       "2                   PANGLAO  PH071233000         NaN          NaN   \n",
       "3               SANTO TOMAS  PH041028000         NaN          NaN   \n",
       "4                    CAINTA  PH045805000         NaN          NaN   \n",
       "\n",
       "  HealthStatus Quarantined   DateOnset Pregnanttab  \\\n",
       "0    RECOVERED          NO  2020-01-21          NO   \n",
       "1         DIED          NO  2020-01-18         NaN   \n",
       "2    RECOVERED          NO  2020-01-21          NO   \n",
       "3    RECOVERED          NO         NaN         NaN   \n",
       "4         DIED          NO         NaN         NaN   \n",
       "\n",
       "                                    ValidationStatus  \n",
       "0  Removal Type is \"Recovered\", but no Recovered ...  \n",
       "1                                                NaN  \n",
       "2  Case has Admitting Facility but is not Admitte...  \n",
       "3  Case has Admitting Facility but is not Admitte...  \n",
       "4  Age or Birthdate is Invalid\\nCase has Lab Resu...  \n",
       "\n",
       "[5 rows x 23 columns]"
      ]
     },
     "execution_count": 4,
     "metadata": {},
     "output_type": "execute_result"
    }
   ],
   "source": [
    "df.head()"
   ]
  },
  {
   "cell_type": "code",
   "execution_count": 5,
   "id": "5ce083f4-1c0b-4cb7-a9f8-b9c1dece6f2c",
   "metadata": {},
   "outputs": [
    {
     "data": {
      "text/plain": [
       "(4136488, 23)"
      ]
     },
     "execution_count": 5,
     "metadata": {},
     "output_type": "execute_result"
    }
   ],
   "source": [
    "df.shape"
   ]
  },
  {
   "cell_type": "code",
   "execution_count": 6,
   "id": "f65d931e-1344-46ce-bec4-dc0414893e8b",
   "metadata": {},
   "outputs": [
    {
     "data": {
      "text/plain": [
       "['CaseCode',\n",
       " 'Age',\n",
       " 'AgeGroup',\n",
       " 'Sex',\n",
       " 'DateSpecimen',\n",
       " 'DateResultRelease',\n",
       " 'DateRepConf',\n",
       " 'DateDied',\n",
       " 'DateRecover',\n",
       " 'RemovalType',\n",
       " 'DateRepRem',\n",
       " 'Admitted',\n",
       " 'RegionRes',\n",
       " 'ProvRes',\n",
       " 'CityMunRes',\n",
       " 'CityMuniPSGC',\n",
       " 'BarangayRes',\n",
       " 'BarangayPSGC',\n",
       " 'HealthStatus',\n",
       " 'Quarantined',\n",
       " 'DateOnset',\n",
       " 'Pregnanttab',\n",
       " 'ValidationStatus']"
      ]
     },
     "execution_count": 6,
     "metadata": {},
     "output_type": "execute_result"
    }
   ],
   "source": [
    "df.columns.tolist()"
   ]
  },
  {
   "cell_type": "code",
   "execution_count": 7,
   "id": "efe20d01-f9d1-4047-a6a7-689f396f69a3",
   "metadata": {},
   "outputs": [
    {
     "data": {
      "text/plain": [
       "CaseCode                   0\n",
       "Age                    11898\n",
       "AgeGroup               11898\n",
       "Sex                        1\n",
       "DateSpecimen          975556\n",
       "DateResultRelease     976231\n",
       "DateRepConf                0\n",
       "DateDied             4070302\n",
       "DateRecover          3404454\n",
       "RemovalType             1773\n",
       "DateRepRem              1773\n",
       "Admitted              173623\n",
       "RegionRes               3882\n",
       "ProvRes                57369\n",
       "CityMunRes            105525\n",
       "CityMuniPSGC          111496\n",
       "BarangayRes           369066\n",
       "BarangayPSGC          374907\n",
       "HealthStatus               0\n",
       "Quarantined           115223\n",
       "DateOnset            2644554\n",
       "Pregnanttab          2068927\n",
       "ValidationStatus       46925\n",
       "dtype: int64"
      ]
     },
     "execution_count": 7,
     "metadata": {},
     "output_type": "execute_result"
    }
   ],
   "source": [
    "df.isnull().sum()"
   ]
  },
  {
   "cell_type": "markdown",
   "id": "e838e3a9-9d43-4d78-bffc-88d2ba29d9bd",
   "metadata": {},
   "source": [
    "## Feature Selection"
   ]
  },
  {
   "cell_type": "code",
   "execution_count": 8,
   "id": "81d5eb48-2d99-4a4d-a6ea-e9737e8942f5",
   "metadata": {},
   "outputs": [],
   "source": [
    "doh_df = df[['Sex', 'Age', 'DateOnset', 'DateRecover', 'DateDied', 'RemovalType', 'DateRepRem','DateResultRelease', 'DateRepConf']]"
   ]
  },
  {
   "cell_type": "code",
   "execution_count": 9,
   "id": "988063c5-2934-4951-bea0-58e4631fcd31",
   "metadata": {},
   "outputs": [
    {
     "data": {
      "text/html": [
       "<div>\n",
       "<style scoped>\n",
       "    .dataframe tbody tr th:only-of-type {\n",
       "        vertical-align: middle;\n",
       "    }\n",
       "\n",
       "    .dataframe tbody tr th {\n",
       "        vertical-align: top;\n",
       "    }\n",
       "\n",
       "    .dataframe thead th {\n",
       "        text-align: right;\n",
       "    }\n",
       "</style>\n",
       "<table border=\"1\" class=\"dataframe\">\n",
       "  <thead>\n",
       "    <tr style=\"text-align: right;\">\n",
       "      <th></th>\n",
       "      <th>Sex</th>\n",
       "      <th>Age</th>\n",
       "      <th>DateOnset</th>\n",
       "      <th>DateRecover</th>\n",
       "      <th>DateDied</th>\n",
       "      <th>RemovalType</th>\n",
       "      <th>DateRepRem</th>\n",
       "      <th>DateResultRelease</th>\n",
       "      <th>DateRepConf</th>\n",
       "    </tr>\n",
       "  </thead>\n",
       "  <tbody>\n",
       "    <tr>\n",
       "      <th>0</th>\n",
       "      <td>FEMALE</td>\n",
       "      <td>38.0</td>\n",
       "      <td>2020-01-21</td>\n",
       "      <td>NaN</td>\n",
       "      <td>NaN</td>\n",
       "      <td>RECOVERED</td>\n",
       "      <td>2020-02-07</td>\n",
       "      <td>2020-01-30</td>\n",
       "      <td>2020-01-30</td>\n",
       "    </tr>\n",
       "    <tr>\n",
       "      <th>1</th>\n",
       "      <td>MALE</td>\n",
       "      <td>44.0</td>\n",
       "      <td>2020-01-18</td>\n",
       "      <td>NaN</td>\n",
       "      <td>2020-02-01</td>\n",
       "      <td>DIED</td>\n",
       "      <td>2020-02-02</td>\n",
       "      <td>2020-01-30</td>\n",
       "      <td>2020-02-03</td>\n",
       "    </tr>\n",
       "    <tr>\n",
       "      <th>2</th>\n",
       "      <td>FEMALE</td>\n",
       "      <td>60.0</td>\n",
       "      <td>2020-01-21</td>\n",
       "      <td>2020-01-31</td>\n",
       "      <td>NaN</td>\n",
       "      <td>RECOVERED</td>\n",
       "      <td>2020-02-05</td>\n",
       "      <td>2020-01-30</td>\n",
       "      <td>2020-02-05</td>\n",
       "    </tr>\n",
       "    <tr>\n",
       "      <th>3</th>\n",
       "      <td>MALE</td>\n",
       "      <td>49.0</td>\n",
       "      <td>NaN</td>\n",
       "      <td>NaN</td>\n",
       "      <td>NaN</td>\n",
       "      <td>RECOVERED</td>\n",
       "      <td>2020-03-27</td>\n",
       "      <td>NaN</td>\n",
       "      <td>2020-03-06</td>\n",
       "    </tr>\n",
       "    <tr>\n",
       "      <th>4</th>\n",
       "      <td>MALE</td>\n",
       "      <td>63.0</td>\n",
       "      <td>NaN</td>\n",
       "      <td>NaN</td>\n",
       "      <td>2020-03-11</td>\n",
       "      <td>DIED</td>\n",
       "      <td>2020-03-12</td>\n",
       "      <td>NaN</td>\n",
       "      <td>2020-03-06</td>\n",
       "    </tr>\n",
       "  </tbody>\n",
       "</table>\n",
       "</div>"
      ],
      "text/plain": [
       "      Sex   Age   DateOnset DateRecover    DateDied RemovalType  DateRepRem  \\\n",
       "0  FEMALE  38.0  2020-01-21         NaN         NaN   RECOVERED  2020-02-07   \n",
       "1    MALE  44.0  2020-01-18         NaN  2020-02-01        DIED  2020-02-02   \n",
       "2  FEMALE  60.0  2020-01-21  2020-01-31         NaN   RECOVERED  2020-02-05   \n",
       "3    MALE  49.0         NaN         NaN         NaN   RECOVERED  2020-03-27   \n",
       "4    MALE  63.0         NaN         NaN  2020-03-11        DIED  2020-03-12   \n",
       "\n",
       "  DateResultRelease DateRepConf  \n",
       "0        2020-01-30  2020-01-30  \n",
       "1        2020-01-30  2020-02-03  \n",
       "2        2020-01-30  2020-02-05  \n",
       "3               NaN  2020-03-06  \n",
       "4               NaN  2020-03-06  "
      ]
     },
     "execution_count": 9,
     "metadata": {},
     "output_type": "execute_result"
    }
   ],
   "source": [
    "doh_df.head()"
   ]
  },
  {
   "cell_type": "code",
   "execution_count": 10,
   "id": "d954a0c7-eccb-4726-96ba-35c356e11910",
   "metadata": {},
   "outputs": [],
   "source": [
    "# Drop rows where 'Age' or 'Sex' is NaN\n",
    "doh_df = doh_df.dropna(subset=['Age', 'Sex', 'RemovalType'])\n",
    "doh_df.isnull().sum()\n",
    "doh_df = doh_df[doh_df['Age'] >= 0]"
   ]
  },
  {
   "cell_type": "code",
   "execution_count": 11,
   "id": "98b65e30-61f8-4ee0-b118-df42ef69dc9e",
   "metadata": {},
   "outputs": [
    {
     "data": {
      "text/plain": [
       "Sex                        0\n",
       "Age                        0\n",
       "DateOnset            2637370\n",
       "DateRecover          3392573\n",
       "DateDied             4056744\n",
       "RemovalType                0\n",
       "DateRepRem                 0\n",
       "DateResultRelease     975334\n",
       "DateRepConf                0\n",
       "dtype: int64"
      ]
     },
     "execution_count": 11,
     "metadata": {},
     "output_type": "execute_result"
    }
   ],
   "source": [
    "doh_df.isnull().sum()"
   ]
  },
  {
   "cell_type": "code",
   "execution_count": 12,
   "id": "f9c6981e-d553-45f2-8f49-d03a77f0ef07",
   "metadata": {},
   "outputs": [
    {
     "data": {
      "text/plain": [
       "(4122840, 9)"
      ]
     },
     "execution_count": 12,
     "metadata": {},
     "output_type": "execute_result"
    }
   ],
   "source": [
    "doh_df.shape"
   ]
  },
  {
   "cell_type": "code",
   "execution_count": 13,
   "id": "1e8da72d-185a-4634-b83e-8c3d11fe6d20",
   "metadata": {},
   "outputs": [
    {
     "data": {
      "text/html": [
       "<div>\n",
       "<style scoped>\n",
       "    .dataframe tbody tr th:only-of-type {\n",
       "        vertical-align: middle;\n",
       "    }\n",
       "\n",
       "    .dataframe tbody tr th {\n",
       "        vertical-align: top;\n",
       "    }\n",
       "\n",
       "    .dataframe thead th {\n",
       "        text-align: right;\n",
       "    }\n",
       "</style>\n",
       "<table border=\"1\" class=\"dataframe\">\n",
       "  <thead>\n",
       "    <tr style=\"text-align: right;\">\n",
       "      <th></th>\n",
       "      <th>Sex</th>\n",
       "      <th>Age</th>\n",
       "      <th>DateOnset</th>\n",
       "      <th>DateRecover</th>\n",
       "      <th>DateDied</th>\n",
       "      <th>RemovalType</th>\n",
       "      <th>DateRepRem</th>\n",
       "      <th>DateResultRelease</th>\n",
       "      <th>DateRepConf</th>\n",
       "    </tr>\n",
       "  </thead>\n",
       "  <tbody>\n",
       "    <tr>\n",
       "      <th>0</th>\n",
       "      <td>FEMALE</td>\n",
       "      <td>38.0</td>\n",
       "      <td>2020-01-21</td>\n",
       "      <td>NaN</td>\n",
       "      <td>NaN</td>\n",
       "      <td>RECOVERED</td>\n",
       "      <td>2020-02-07</td>\n",
       "      <td>2020-01-30</td>\n",
       "      <td>2020-01-30</td>\n",
       "    </tr>\n",
       "    <tr>\n",
       "      <th>1</th>\n",
       "      <td>MALE</td>\n",
       "      <td>44.0</td>\n",
       "      <td>2020-01-18</td>\n",
       "      <td>NaN</td>\n",
       "      <td>2020-02-01</td>\n",
       "      <td>DIED</td>\n",
       "      <td>2020-02-02</td>\n",
       "      <td>2020-01-30</td>\n",
       "      <td>2020-02-03</td>\n",
       "    </tr>\n",
       "    <tr>\n",
       "      <th>2</th>\n",
       "      <td>FEMALE</td>\n",
       "      <td>60.0</td>\n",
       "      <td>2020-01-21</td>\n",
       "      <td>2020-01-31</td>\n",
       "      <td>NaN</td>\n",
       "      <td>RECOVERED</td>\n",
       "      <td>2020-02-05</td>\n",
       "      <td>2020-01-30</td>\n",
       "      <td>2020-02-05</td>\n",
       "    </tr>\n",
       "    <tr>\n",
       "      <th>3</th>\n",
       "      <td>MALE</td>\n",
       "      <td>49.0</td>\n",
       "      <td>NaN</td>\n",
       "      <td>NaN</td>\n",
       "      <td>NaN</td>\n",
       "      <td>RECOVERED</td>\n",
       "      <td>2020-03-27</td>\n",
       "      <td>NaN</td>\n",
       "      <td>2020-03-06</td>\n",
       "    </tr>\n",
       "    <tr>\n",
       "      <th>4</th>\n",
       "      <td>MALE</td>\n",
       "      <td>63.0</td>\n",
       "      <td>NaN</td>\n",
       "      <td>NaN</td>\n",
       "      <td>2020-03-11</td>\n",
       "      <td>DIED</td>\n",
       "      <td>2020-03-12</td>\n",
       "      <td>NaN</td>\n",
       "      <td>2020-03-06</td>\n",
       "    </tr>\n",
       "  </tbody>\n",
       "</table>\n",
       "</div>"
      ],
      "text/plain": [
       "      Sex   Age   DateOnset DateRecover    DateDied RemovalType  DateRepRem  \\\n",
       "0  FEMALE  38.0  2020-01-21         NaN         NaN   RECOVERED  2020-02-07   \n",
       "1    MALE  44.0  2020-01-18         NaN  2020-02-01        DIED  2020-02-02   \n",
       "2  FEMALE  60.0  2020-01-21  2020-01-31         NaN   RECOVERED  2020-02-05   \n",
       "3    MALE  49.0         NaN         NaN         NaN   RECOVERED  2020-03-27   \n",
       "4    MALE  63.0         NaN         NaN  2020-03-11        DIED  2020-03-12   \n",
       "\n",
       "  DateResultRelease DateRepConf  \n",
       "0        2020-01-30  2020-01-30  \n",
       "1        2020-01-30  2020-02-03  \n",
       "2        2020-01-30  2020-02-05  \n",
       "3               NaN  2020-03-06  \n",
       "4               NaN  2020-03-06  "
      ]
     },
     "execution_count": 13,
     "metadata": {},
     "output_type": "execute_result"
    }
   ],
   "source": [
    "doh_df.head()"
   ]
  },
  {
   "cell_type": "markdown",
   "id": "b2f7ace5-d0e5-499e-9c9c-9f1c4dce580e",
   "metadata": {},
   "source": [
    "## Feature Engineering"
   ]
  },
  {
   "cell_type": "code",
   "execution_count": 14,
   "id": "bfa9fb00-7da6-4ad6-8f0b-9e4007abbec9",
   "metadata": {},
   "outputs": [],
   "source": [
    "# Add a new column named \"COVID Positive Dates\" to record the dates someone had COVID.\n",
    "doh_df['DateOnset'] = pd.to_datetime(doh_df['DateOnset'], errors='coerce', format='%Y-%m-%d')\n",
    "doh_df['DateRecover'] = pd.to_datetime(doh_df['DateRecover'], errors='coerce', format='%Y-%m-%d')\n",
    "doh_df['DateDied'] = pd.to_datetime(doh_df['DateDied'], errors='coerce', format='%Y-%m-%d')\n",
    "doh_df['DateRepRem'] = pd.to_datetime(doh_df['DateRepRem'], errors='coerce', format='%Y-%m-%d')\n",
    "doh_df['DateResultRelease'] = pd.to_datetime(doh_df['DateResultRelease'], errors='coerce', format='%Y-%m-%d')\n",
    "doh_df['DateRepConf'] = pd.to_datetime(doh_df['DateRepConf'], errors='coerce', format='%Y-%m-%d')"
   ]
  },
  {
   "cell_type": "code",
   "execution_count": 15,
   "id": "009c2f91-73c6-4216-a01a-0bca71f94c29",
   "metadata": {},
   "outputs": [
    {
     "data": {
      "text/html": [
       "<div>\n",
       "<style scoped>\n",
       "    .dataframe tbody tr th:only-of-type {\n",
       "        vertical-align: middle;\n",
       "    }\n",
       "\n",
       "    .dataframe tbody tr th {\n",
       "        vertical-align: top;\n",
       "    }\n",
       "\n",
       "    .dataframe thead th {\n",
       "        text-align: right;\n",
       "    }\n",
       "</style>\n",
       "<table border=\"1\" class=\"dataframe\">\n",
       "  <thead>\n",
       "    <tr style=\"text-align: right;\">\n",
       "      <th></th>\n",
       "      <th>Sex</th>\n",
       "      <th>Age</th>\n",
       "      <th>DateOnset</th>\n",
       "      <th>DateRecover</th>\n",
       "      <th>DateDied</th>\n",
       "      <th>RemovalType</th>\n",
       "      <th>DateRepRem</th>\n",
       "      <th>DateResultRelease</th>\n",
       "      <th>DateRepConf</th>\n",
       "    </tr>\n",
       "  </thead>\n",
       "  <tbody>\n",
       "    <tr>\n",
       "      <th>0</th>\n",
       "      <td>FEMALE</td>\n",
       "      <td>38.0</td>\n",
       "      <td>2020-01-21</td>\n",
       "      <td>NaT</td>\n",
       "      <td>NaT</td>\n",
       "      <td>RECOVERED</td>\n",
       "      <td>2020-02-07</td>\n",
       "      <td>2020-01-30</td>\n",
       "      <td>2020-01-30</td>\n",
       "    </tr>\n",
       "    <tr>\n",
       "      <th>1</th>\n",
       "      <td>MALE</td>\n",
       "      <td>44.0</td>\n",
       "      <td>2020-01-18</td>\n",
       "      <td>NaT</td>\n",
       "      <td>2020-02-01</td>\n",
       "      <td>DIED</td>\n",
       "      <td>2020-02-02</td>\n",
       "      <td>2020-01-30</td>\n",
       "      <td>2020-02-03</td>\n",
       "    </tr>\n",
       "    <tr>\n",
       "      <th>2</th>\n",
       "      <td>FEMALE</td>\n",
       "      <td>60.0</td>\n",
       "      <td>2020-01-21</td>\n",
       "      <td>2020-01-31</td>\n",
       "      <td>NaT</td>\n",
       "      <td>RECOVERED</td>\n",
       "      <td>2020-02-05</td>\n",
       "      <td>2020-01-30</td>\n",
       "      <td>2020-02-05</td>\n",
       "    </tr>\n",
       "    <tr>\n",
       "      <th>3</th>\n",
       "      <td>MALE</td>\n",
       "      <td>49.0</td>\n",
       "      <td>NaT</td>\n",
       "      <td>NaT</td>\n",
       "      <td>NaT</td>\n",
       "      <td>RECOVERED</td>\n",
       "      <td>2020-03-27</td>\n",
       "      <td>NaT</td>\n",
       "      <td>2020-03-06</td>\n",
       "    </tr>\n",
       "    <tr>\n",
       "      <th>4</th>\n",
       "      <td>MALE</td>\n",
       "      <td>63.0</td>\n",
       "      <td>NaT</td>\n",
       "      <td>NaT</td>\n",
       "      <td>2020-03-11</td>\n",
       "      <td>DIED</td>\n",
       "      <td>2020-03-12</td>\n",
       "      <td>NaT</td>\n",
       "      <td>2020-03-06</td>\n",
       "    </tr>\n",
       "  </tbody>\n",
       "</table>\n",
       "</div>"
      ],
      "text/plain": [
       "      Sex   Age  DateOnset DateRecover   DateDied RemovalType DateRepRem  \\\n",
       "0  FEMALE  38.0 2020-01-21         NaT        NaT   RECOVERED 2020-02-07   \n",
       "1    MALE  44.0 2020-01-18         NaT 2020-02-01        DIED 2020-02-02   \n",
       "2  FEMALE  60.0 2020-01-21  2020-01-31        NaT   RECOVERED 2020-02-05   \n",
       "3    MALE  49.0        NaT         NaT        NaT   RECOVERED 2020-03-27   \n",
       "4    MALE  63.0        NaT         NaT 2020-03-11        DIED 2020-03-12   \n",
       "\n",
       "  DateResultRelease DateRepConf  \n",
       "0        2020-01-30  2020-01-30  \n",
       "1        2020-01-30  2020-02-03  \n",
       "2        2020-01-30  2020-02-05  \n",
       "3               NaT  2020-03-06  \n",
       "4               NaT  2020-03-06  "
      ]
     },
     "execution_count": 15,
     "metadata": {},
     "output_type": "execute_result"
    }
   ],
   "source": [
    "doh_df.head()"
   ]
  },
  {
   "cell_type": "code",
   "execution_count": 16,
   "id": "f9d64d7c-c137-4561-9ccb-087ddbe23f80",
   "metadata": {},
   "outputs": [],
   "source": [
    "def calculate_duration(row):\n",
    "    start_date = row['DateOnset']\n",
    "    if pd.isna(start_date):\n",
    "        start_date = row['DateResultRelease']\n",
    "    if pd.isna(start_date):\n",
    "        start_date = row['DateRepConf']\n",
    "    \n",
    "    end_date = row['DateRecover']\n",
    "    if pd.isna(end_date):\n",
    "        end_date = row['DateRepRem']\n",
    "\n",
    "    if pd.notna(start_date) and pd.notna(end_date):\n",
    "        duration = (end_date - start_date).days\n",
    "        if duration < 0:  # Add a check to handle negative durations\n",
    "            return None  \n",
    "        return duration\n",
    "    else:\n",
    "        return None\n",
    "\n",
    "doh_df['CovidDuration'] = doh_df.apply(calculate_duration, axis=1)"
   ]
  },
  {
   "cell_type": "code",
   "execution_count": 17,
   "id": "625a2ffc-65f8-4eaa-8ca8-1afa7391e715",
   "metadata": {},
   "outputs": [],
   "source": [
    "# Creating a Age Group\n",
    "bins = [0, 18, 35, 60, 118]\n",
    "labels = ['0-18', '19-35', '36-60', '61+']\n",
    "doh_df['Age'] = pd.to_numeric(doh_df['Age'], errors='coerce')\n",
    "doh_df['AgeGroup'] = pd.cut(doh_df['Age'], bins=bins, labels=labels, include_lowest=True, right=True)"
   ]
  },
  {
   "cell_type": "code",
   "execution_count": 18,
   "id": "e6e9c5fc-df5c-4d67-8513-cf02bd8c5e83",
   "metadata": {},
   "outputs": [],
   "source": [
    "# Factor in the Sex\n",
    "average_durations_by_sex_and_age = doh_df.groupby(['Sex', 'AgeGroup'], observed=True)['CovidDuration'].mean().to_dict()\n",
    "average_durations_by_age = doh_df.groupby('AgeGroup', observed=True)['CovidDuration'].mean().to_dict()"
   ]
  },
  {
   "cell_type": "code",
   "execution_count": 19,
   "id": "c7d6663f-99a1-42ce-b4a4-78b22b5db642",
   "metadata": {},
   "outputs": [
    {
     "data": {
      "text/html": [
       "<div>\n",
       "<style scoped>\n",
       "    .dataframe tbody tr th:only-of-type {\n",
       "        vertical-align: middle;\n",
       "    }\n",
       "\n",
       "    .dataframe tbody tr th {\n",
       "        vertical-align: top;\n",
       "    }\n",
       "\n",
       "    .dataframe thead th {\n",
       "        text-align: right;\n",
       "    }\n",
       "</style>\n",
       "<table border=\"1\" class=\"dataframe\">\n",
       "  <thead>\n",
       "    <tr style=\"text-align: right;\">\n",
       "      <th></th>\n",
       "      <th>Sex</th>\n",
       "      <th>Age</th>\n",
       "      <th>DateOnset</th>\n",
       "      <th>DateRecover</th>\n",
       "      <th>DateDied</th>\n",
       "      <th>RemovalType</th>\n",
       "      <th>DateRepRem</th>\n",
       "      <th>DateResultRelease</th>\n",
       "      <th>DateRepConf</th>\n",
       "      <th>CovidDuration</th>\n",
       "      <th>AgeGroup</th>\n",
       "    </tr>\n",
       "  </thead>\n",
       "  <tbody>\n",
       "    <tr>\n",
       "      <th>0</th>\n",
       "      <td>FEMALE</td>\n",
       "      <td>38.0</td>\n",
       "      <td>2020-01-21</td>\n",
       "      <td>NaT</td>\n",
       "      <td>NaT</td>\n",
       "      <td>RECOVERED</td>\n",
       "      <td>2020-02-07</td>\n",
       "      <td>2020-01-30</td>\n",
       "      <td>2020-01-30</td>\n",
       "      <td>17.0</td>\n",
       "      <td>36-60</td>\n",
       "    </tr>\n",
       "    <tr>\n",
       "      <th>1</th>\n",
       "      <td>MALE</td>\n",
       "      <td>44.0</td>\n",
       "      <td>2020-01-18</td>\n",
       "      <td>NaT</td>\n",
       "      <td>2020-02-01</td>\n",
       "      <td>DIED</td>\n",
       "      <td>2020-02-02</td>\n",
       "      <td>2020-01-30</td>\n",
       "      <td>2020-02-03</td>\n",
       "      <td>15.0</td>\n",
       "      <td>36-60</td>\n",
       "    </tr>\n",
       "    <tr>\n",
       "      <th>2</th>\n",
       "      <td>FEMALE</td>\n",
       "      <td>60.0</td>\n",
       "      <td>2020-01-21</td>\n",
       "      <td>2020-01-31</td>\n",
       "      <td>NaT</td>\n",
       "      <td>RECOVERED</td>\n",
       "      <td>2020-02-05</td>\n",
       "      <td>2020-01-30</td>\n",
       "      <td>2020-02-05</td>\n",
       "      <td>10.0</td>\n",
       "      <td>36-60</td>\n",
       "    </tr>\n",
       "    <tr>\n",
       "      <th>3</th>\n",
       "      <td>MALE</td>\n",
       "      <td>49.0</td>\n",
       "      <td>NaT</td>\n",
       "      <td>NaT</td>\n",
       "      <td>NaT</td>\n",
       "      <td>RECOVERED</td>\n",
       "      <td>2020-03-27</td>\n",
       "      <td>NaT</td>\n",
       "      <td>2020-03-06</td>\n",
       "      <td>21.0</td>\n",
       "      <td>36-60</td>\n",
       "    </tr>\n",
       "    <tr>\n",
       "      <th>4</th>\n",
       "      <td>MALE</td>\n",
       "      <td>63.0</td>\n",
       "      <td>NaT</td>\n",
       "      <td>NaT</td>\n",
       "      <td>2020-03-11</td>\n",
       "      <td>DIED</td>\n",
       "      <td>2020-03-12</td>\n",
       "      <td>NaT</td>\n",
       "      <td>2020-03-06</td>\n",
       "      <td>6.0</td>\n",
       "      <td>61+</td>\n",
       "    </tr>\n",
       "  </tbody>\n",
       "</table>\n",
       "</div>"
      ],
      "text/plain": [
       "      Sex   Age  DateOnset DateRecover   DateDied RemovalType DateRepRem  \\\n",
       "0  FEMALE  38.0 2020-01-21         NaT        NaT   RECOVERED 2020-02-07   \n",
       "1    MALE  44.0 2020-01-18         NaT 2020-02-01        DIED 2020-02-02   \n",
       "2  FEMALE  60.0 2020-01-21  2020-01-31        NaT   RECOVERED 2020-02-05   \n",
       "3    MALE  49.0        NaT         NaT        NaT   RECOVERED 2020-03-27   \n",
       "4    MALE  63.0        NaT         NaT 2020-03-11        DIED 2020-03-12   \n",
       "\n",
       "  DateResultRelease DateRepConf  CovidDuration AgeGroup  \n",
       "0        2020-01-30  2020-01-30           17.0    36-60  \n",
       "1        2020-01-30  2020-02-03           15.0    36-60  \n",
       "2        2020-01-30  2020-02-05           10.0    36-60  \n",
       "3               NaT  2020-03-06           21.0    36-60  \n",
       "4               NaT  2020-03-06            6.0      61+  "
      ]
     },
     "execution_count": 19,
     "metadata": {},
     "output_type": "execute_result"
    }
   ],
   "source": [
    "doh_df.head()"
   ]
  },
  {
   "cell_type": "markdown",
   "id": "f7e606da-7ded-413d-bfa0-d15f75139eba",
   "metadata": {},
   "source": [
    "## Imputing"
   ]
  },
  {
   "cell_type": "code",
   "execution_count": 20,
   "id": "b5706208-707d-4500-8368-becaef62cfe1",
   "metadata": {},
   "outputs": [],
   "source": [
    "# Reducing the Values Exceeding 30 and to fill in Missing Values in CovidDuration\n",
    "def impute_duration(row):\n",
    "    if pd.isna(row['CovidDuration']):\n",
    "        \n",
    "        return average_durations_by_sex_and_age.get((row['Sex'], row['AgeGroup']), np.nan)  # Use NaN as fallback\n",
    "    elif row['CovidDuration'] > 30:\n",
    "\n",
    "        return average_durations_by_age.get(row['AgeGroup'], row['CovidDuration'])  # Fallback to original if no average\n",
    "    else:\n",
    "        return row['CovidDuration']\n",
    "\n",
    "\n",
    "doh_df['CovidDuration'] = doh_df.apply(impute_duration, axis=1)"
   ]
  },
  {
   "cell_type": "code",
   "execution_count": 21,
   "id": "50bfd0ad-9c02-468a-9a55-616e236e0a4a",
   "metadata": {},
   "outputs": [
    {
     "name": "stdout",
     "output_type": "stream",
     "text": [
      "      Sex   Age AgeGroup  CovidDuration\n",
      "0  FEMALE  38.0    36-60           17.0\n",
      "1    MALE  44.0    36-60           15.0\n",
      "2  FEMALE  60.0    36-60           10.0\n",
      "3    MALE  49.0    36-60           21.0\n",
      "4    MALE  63.0      61+            6.0\n"
     ]
    }
   ],
   "source": [
    "print(f\"{doh_df[['Sex', 'Age', 'AgeGroup', 'CovidDuration']].head()}\")"
   ]
  },
  {
   "cell_type": "code",
   "execution_count": 22,
   "id": "fde70999-44f4-4df6-b0f2-fe028981307e",
   "metadata": {},
   "outputs": [
    {
     "name": "stdout",
     "output_type": "stream",
     "text": [
      "Number of entries with CovidDuration greater than 30 days: 0\n"
     ]
    }
   ],
   "source": [
    "count_over_30 = (doh_df['CovidDuration'] > 30).sum()\n",
    "print(f'Number of entries with CovidDuration greater than 30 days: {count_over_30}')"
   ]
  },
  {
   "cell_type": "code",
   "execution_count": 23,
   "id": "63380907-3fc4-4eda-86aa-b19f6293287e",
   "metadata": {},
   "outputs": [
    {
     "data": {
      "text/plain": [
       "Sex                        0\n",
       "Age                        0\n",
       "DateOnset            2690211\n",
       "DateRecover          3393511\n",
       "DateDied             4057210\n",
       "RemovalType                0\n",
       "DateRepRem            134046\n",
       "DateResultRelease    1107829\n",
       "DateRepConf           134046\n",
       "CovidDuration              0\n",
       "AgeGroup                   0\n",
       "dtype: int64"
      ]
     },
     "execution_count": 23,
     "metadata": {},
     "output_type": "execute_result"
    }
   ],
   "source": [
    "doh_df.isnull().sum()"
   ]
  },
  {
   "cell_type": "code",
   "execution_count": 24,
   "id": "37042f46-eeb1-48b9-93f6-44ab3386d14c",
   "metadata": {},
   "outputs": [],
   "source": [
    "# Remove the Decimals\n",
    "doh_df['CovidDuration'] = doh_df['CovidDuration'].round().astype(int)"
   ]
  },
  {
   "cell_type": "code",
   "execution_count": 25,
   "id": "bd519988-f82b-4dc0-9d2a-5371f7b3ea35",
   "metadata": {},
   "outputs": [
    {
     "data": {
      "text/html": [
       "<div>\n",
       "<style scoped>\n",
       "    .dataframe tbody tr th:only-of-type {\n",
       "        vertical-align: middle;\n",
       "    }\n",
       "\n",
       "    .dataframe tbody tr th {\n",
       "        vertical-align: top;\n",
       "    }\n",
       "\n",
       "    .dataframe thead th {\n",
       "        text-align: right;\n",
       "    }\n",
       "</style>\n",
       "<table border=\"1\" class=\"dataframe\">\n",
       "  <thead>\n",
       "    <tr style=\"text-align: right;\">\n",
       "      <th></th>\n",
       "      <th>Sex</th>\n",
       "      <th>Age</th>\n",
       "      <th>DateOnset</th>\n",
       "      <th>DateRecover</th>\n",
       "      <th>DateDied</th>\n",
       "      <th>RemovalType</th>\n",
       "      <th>DateRepRem</th>\n",
       "      <th>DateResultRelease</th>\n",
       "      <th>DateRepConf</th>\n",
       "      <th>CovidDuration</th>\n",
       "      <th>AgeGroup</th>\n",
       "    </tr>\n",
       "  </thead>\n",
       "  <tbody>\n",
       "    <tr>\n",
       "      <th>0</th>\n",
       "      <td>FEMALE</td>\n",
       "      <td>38.0</td>\n",
       "      <td>2020-01-21</td>\n",
       "      <td>NaT</td>\n",
       "      <td>NaT</td>\n",
       "      <td>RECOVERED</td>\n",
       "      <td>2020-02-07</td>\n",
       "      <td>2020-01-30</td>\n",
       "      <td>2020-01-30</td>\n",
       "      <td>17</td>\n",
       "      <td>36-60</td>\n",
       "    </tr>\n",
       "    <tr>\n",
       "      <th>1</th>\n",
       "      <td>MALE</td>\n",
       "      <td>44.0</td>\n",
       "      <td>2020-01-18</td>\n",
       "      <td>NaT</td>\n",
       "      <td>2020-02-01</td>\n",
       "      <td>DIED</td>\n",
       "      <td>2020-02-02</td>\n",
       "      <td>2020-01-30</td>\n",
       "      <td>2020-02-03</td>\n",
       "      <td>15</td>\n",
       "      <td>36-60</td>\n",
       "    </tr>\n",
       "    <tr>\n",
       "      <th>2</th>\n",
       "      <td>FEMALE</td>\n",
       "      <td>60.0</td>\n",
       "      <td>2020-01-21</td>\n",
       "      <td>2020-01-31</td>\n",
       "      <td>NaT</td>\n",
       "      <td>RECOVERED</td>\n",
       "      <td>2020-02-05</td>\n",
       "      <td>2020-01-30</td>\n",
       "      <td>2020-02-05</td>\n",
       "      <td>10</td>\n",
       "      <td>36-60</td>\n",
       "    </tr>\n",
       "    <tr>\n",
       "      <th>3</th>\n",
       "      <td>MALE</td>\n",
       "      <td>49.0</td>\n",
       "      <td>NaT</td>\n",
       "      <td>NaT</td>\n",
       "      <td>NaT</td>\n",
       "      <td>RECOVERED</td>\n",
       "      <td>2020-03-27</td>\n",
       "      <td>NaT</td>\n",
       "      <td>2020-03-06</td>\n",
       "      <td>21</td>\n",
       "      <td>36-60</td>\n",
       "    </tr>\n",
       "    <tr>\n",
       "      <th>4</th>\n",
       "      <td>MALE</td>\n",
       "      <td>63.0</td>\n",
       "      <td>NaT</td>\n",
       "      <td>NaT</td>\n",
       "      <td>2020-03-11</td>\n",
       "      <td>DIED</td>\n",
       "      <td>2020-03-12</td>\n",
       "      <td>NaT</td>\n",
       "      <td>2020-03-06</td>\n",
       "      <td>6</td>\n",
       "      <td>61+</td>\n",
       "    </tr>\n",
       "  </tbody>\n",
       "</table>\n",
       "</div>"
      ],
      "text/plain": [
       "      Sex   Age  DateOnset DateRecover   DateDied RemovalType DateRepRem  \\\n",
       "0  FEMALE  38.0 2020-01-21         NaT        NaT   RECOVERED 2020-02-07   \n",
       "1    MALE  44.0 2020-01-18         NaT 2020-02-01        DIED 2020-02-02   \n",
       "2  FEMALE  60.0 2020-01-21  2020-01-31        NaT   RECOVERED 2020-02-05   \n",
       "3    MALE  49.0        NaT         NaT        NaT   RECOVERED 2020-03-27   \n",
       "4    MALE  63.0        NaT         NaT 2020-03-11        DIED 2020-03-12   \n",
       "\n",
       "  DateResultRelease DateRepConf  CovidDuration AgeGroup  \n",
       "0        2020-01-30  2020-01-30             17    36-60  \n",
       "1        2020-01-30  2020-02-03             15    36-60  \n",
       "2        2020-01-30  2020-02-05             10    36-60  \n",
       "3               NaT  2020-03-06             21    36-60  \n",
       "4               NaT  2020-03-06              6      61+  "
      ]
     },
     "execution_count": 25,
     "metadata": {},
     "output_type": "execute_result"
    }
   ],
   "source": [
    "doh_df.head()"
   ]
  },
  {
   "cell_type": "markdown",
   "id": "b4c4aca4-b8d7-486b-ab45-0228c5619f9d",
   "metadata": {},
   "source": [
    "[ref0]: #top\n",
    "[Back to Table of Contents][ref0]"
   ]
  },
  {
   "cell_type": "markdown",
   "id": "602c2a2a-f5f7-43f3-bff7-3fabaa3ddb93",
   "metadata": {},
   "source": [
    "<a name=\"data_preprocessing\"></a>\n",
    "# Data Preprocessing\n",
    "***\n",
    "The data gets prepped for training! Categorical features like \"Sex\" are converted to numbers. We then pick these features and the target survival time/status (converted to 1/0 for dead/recovered). The data is split into training and testing sets. Finally, numerical features are scaled for better training, and recovery status is converted for multi-class classification. "
   ]
  },
  {
   "cell_type": "code",
   "execution_count": 26,
   "id": "35957cad-8bc6-4df6-a6ab-5919d106dca6",
   "metadata": {},
   "outputs": [],
   "source": [
    "le_sex = LabelEncoder()\n",
    "doh_df['Sex'] = le_sex.fit_transform(doh_df['Sex'])\n",
    "\n",
    "le_age_group = LabelEncoder()\n",
    "doh_df['AgeGroup'] = le_age_group.fit_transform(doh_df['AgeGroup'])"
   ]
  },
  {
   "cell_type": "code",
   "execution_count": 27,
   "id": "01879b27-02c0-4db9-a527-9b81aef5a400",
   "metadata": {},
   "outputs": [],
   "source": [
    "X = doh_df[['Sex', 'AgeGroup']]\n",
    "y_duration = doh_df['CovidDuration'].values\n",
    "y_status = doh_df['RemovalType'].apply(lambda x: 1 if x == 'RECOVERED' else 0).values"
   ]
  },
  {
   "cell_type": "code",
   "execution_count": 28,
   "id": "cb216774-ac9c-4b1d-ba23-7486aff3cf9c",
   "metadata": {},
   "outputs": [],
   "source": [
    "X_train, X_test, y_train_duration, y_test_duration, y_train_status, y_test_status = train_test_split(\n",
    "    X, y_duration, y_status, test_size=0.2, random_state=42)"
   ]
  },
  {
   "cell_type": "code",
   "execution_count": 29,
   "id": "d8fbd623-9757-4c1c-858a-537576e8c348",
   "metadata": {},
   "outputs": [],
   "source": [
    "scaler = StandardScaler()\n",
    "X_train_scaled = scaler.fit_transform(X_train)\n",
    "X_test_scaled = scaler.transform(X_test)\n",
    "\n",
    "y_train_status_categorical = to_categorical(y_train_status)\n",
    "y_test_status_categorical = to_categorical(y_test_status)"
   ]
  },
  {
   "cell_type": "code",
   "execution_count": 30,
   "id": "974f9835-e5d4-4e4c-b9a5-25a00c5ab28b",
   "metadata": {},
   "outputs": [],
   "source": [
    "scaler = StandardScaler()\n",
    "X_train_scaled = scaler.fit_transform(X_train)\n",
    "X_test_scaled = scaler.transform(X_test)\n",
    "\n",
    "y_train_status_categorical = to_categorical(y_train_status)\n",
    "y_test_status_categorical = to_categorical(y_test_status)"
   ]
  },
  {
   "cell_type": "markdown",
   "id": "458b92cf-0c5c-4fcf-9774-f8f02f2793b2",
   "metadata": {},
   "source": [
    "[ref1]: #top\n",
    "[Back to Table of Contents][ref1]"
   ]
  },
  {
   "cell_type": "markdown",
   "id": "a1f29991-b8aa-4925-9fb9-255205f0c100",
   "metadata": {},
   "source": [
    "<a name=\"feature_extraction\"></a>\n",
    "# Feature Extraction\n",
    "***\n",
    "A Feedforward Neural Network (FNN) crunches the data! It takes features like \"Sex\" and \"AgeGroup\" after preprocessing. Hidden layers with ReLU activation and Dropout learn complex patterns, with L2 regularization for stability. Separate outputs predict survival time (days) and recovery status (Recovered/Dead). We train the model with an Adam optimizer and specific loss functions for each output. Finally, the model predicts survival time and recovery probabilities for new data, assigning labels based on the highest probability. We then evaluate its performance."
   ]
  },
  {
   "cell_type": "code",
   "execution_count": 31,
   "id": "215fddea-a402-4b95-9f80-1384262ca48f",
   "metadata": {},
   "outputs": [],
   "source": [
    "input_layer = Input(shape=(X_train_scaled.shape[1],))\n",
    "\n",
    "x = Dense(64, activation='relu', kernel_regularizer=regularizers.l2(0.001))(input_layer)  \n",
    "x = Dropout(0.5)(x)\n",
    "x = Dense(32, activation='relu', kernel_regularizer=regularizers.l2(0.001))(x)  \n",
    "duration_output = Dense(1, name='duration')(x)\n",
    "\n",
    "status_output = Dense(2, activation='softmax', kernel_regularizer=regularizers.l2(0.001), name='status')(x)\n",
    "\n",
    "# Construct the model\n",
    "model = Model(inputs=input_layer, outputs=[duration_output, status_output])"
   ]
  },
  {
   "cell_type": "code",
   "execution_count": 32,
   "id": "06c4f591-5701-40a5-bf1e-d5c3bcb61d67",
   "metadata": {},
   "outputs": [
    {
     "data": {
      "text/html": [
       "<pre style=\"white-space:pre;overflow-x:auto;line-height:normal;font-family:Menlo,'DejaVu Sans Mono',consolas,'Courier New',monospace\"><span style=\"font-weight: bold\">Model: \"functional_1\"</span>\n",
       "</pre>\n"
      ],
      "text/plain": [
       "\u001b[1mModel: \"functional_1\"\u001b[0m\n"
      ]
     },
     "metadata": {},
     "output_type": "display_data"
    },
    {
     "data": {
      "text/html": [
       "<pre style=\"white-space:pre;overflow-x:auto;line-height:normal;font-family:Menlo,'DejaVu Sans Mono',consolas,'Courier New',monospace\">┏━━━━━━━━━━━━━━━━━━━━━┳━━━━━━━━━━━━━━━━━━━┳━━━━━━━━━━━━┳━━━━━━━━━━━━━━━━━━━┓\n",
       "┃<span style=\"font-weight: bold\"> Layer (type)        </span>┃<span style=\"font-weight: bold\"> Output Shape      </span>┃<span style=\"font-weight: bold\">    Param # </span>┃<span style=\"font-weight: bold\"> Connected to      </span>┃\n",
       "┡━━━━━━━━━━━━━━━━━━━━━╇━━━━━━━━━━━━━━━━━━━╇━━━━━━━━━━━━╇━━━━━━━━━━━━━━━━━━━┩\n",
       "│ input_layer         │ (<span style=\"color: #00d7ff; text-decoration-color: #00d7ff\">None</span>, <span style=\"color: #00af00; text-decoration-color: #00af00\">2</span>)         │          <span style=\"color: #00af00; text-decoration-color: #00af00\">0</span> │ -                 │\n",
       "│ (<span style=\"color: #0087ff; text-decoration-color: #0087ff\">InputLayer</span>)        │                   │            │                   │\n",
       "├─────────────────────┼───────────────────┼────────────┼───────────────────┤\n",
       "│ dense (<span style=\"color: #0087ff; text-decoration-color: #0087ff\">Dense</span>)       │ (<span style=\"color: #00d7ff; text-decoration-color: #00d7ff\">None</span>, <span style=\"color: #00af00; text-decoration-color: #00af00\">64</span>)        │        <span style=\"color: #00af00; text-decoration-color: #00af00\">192</span> │ input_layer[<span style=\"color: #00af00; text-decoration-color: #00af00\">0</span>][<span style=\"color: #00af00; text-decoration-color: #00af00\">0</span>] │\n",
       "├─────────────────────┼───────────────────┼────────────┼───────────────────┤\n",
       "│ dropout (<span style=\"color: #0087ff; text-decoration-color: #0087ff\">Dropout</span>)   │ (<span style=\"color: #00d7ff; text-decoration-color: #00d7ff\">None</span>, <span style=\"color: #00af00; text-decoration-color: #00af00\">64</span>)        │          <span style=\"color: #00af00; text-decoration-color: #00af00\">0</span> │ dense[<span style=\"color: #00af00; text-decoration-color: #00af00\">0</span>][<span style=\"color: #00af00; text-decoration-color: #00af00\">0</span>]       │\n",
       "├─────────────────────┼───────────────────┼────────────┼───────────────────┤\n",
       "│ dense_1 (<span style=\"color: #0087ff; text-decoration-color: #0087ff\">Dense</span>)     │ (<span style=\"color: #00d7ff; text-decoration-color: #00d7ff\">None</span>, <span style=\"color: #00af00; text-decoration-color: #00af00\">32</span>)        │      <span style=\"color: #00af00; text-decoration-color: #00af00\">2,080</span> │ dropout[<span style=\"color: #00af00; text-decoration-color: #00af00\">0</span>][<span style=\"color: #00af00; text-decoration-color: #00af00\">0</span>]     │\n",
       "├─────────────────────┼───────────────────┼────────────┼───────────────────┤\n",
       "│ duration (<span style=\"color: #0087ff; text-decoration-color: #0087ff\">Dense</span>)    │ (<span style=\"color: #00d7ff; text-decoration-color: #00d7ff\">None</span>, <span style=\"color: #00af00; text-decoration-color: #00af00\">1</span>)         │         <span style=\"color: #00af00; text-decoration-color: #00af00\">33</span> │ dense_1[<span style=\"color: #00af00; text-decoration-color: #00af00\">0</span>][<span style=\"color: #00af00; text-decoration-color: #00af00\">0</span>]     │\n",
       "├─────────────────────┼───────────────────┼────────────┼───────────────────┤\n",
       "│ status (<span style=\"color: #0087ff; text-decoration-color: #0087ff\">Dense</span>)      │ (<span style=\"color: #00d7ff; text-decoration-color: #00d7ff\">None</span>, <span style=\"color: #00af00; text-decoration-color: #00af00\">2</span>)         │         <span style=\"color: #00af00; text-decoration-color: #00af00\">66</span> │ dense_1[<span style=\"color: #00af00; text-decoration-color: #00af00\">0</span>][<span style=\"color: #00af00; text-decoration-color: #00af00\">0</span>]     │\n",
       "└─────────────────────┴───────────────────┴────────────┴───────────────────┘\n",
       "</pre>\n"
      ],
      "text/plain": [
       "┏━━━━━━━━━━━━━━━━━━━━━┳━━━━━━━━━━━━━━━━━━━┳━━━━━━━━━━━━┳━━━━━━━━━━━━━━━━━━━┓\n",
       "┃\u001b[1m \u001b[0m\u001b[1mLayer (type)       \u001b[0m\u001b[1m \u001b[0m┃\u001b[1m \u001b[0m\u001b[1mOutput Shape     \u001b[0m\u001b[1m \u001b[0m┃\u001b[1m \u001b[0m\u001b[1m   Param #\u001b[0m\u001b[1m \u001b[0m┃\u001b[1m \u001b[0m\u001b[1mConnected to     \u001b[0m\u001b[1m \u001b[0m┃\n",
       "┡━━━━━━━━━━━━━━━━━━━━━╇━━━━━━━━━━━━━━━━━━━╇━━━━━━━━━━━━╇━━━━━━━━━━━━━━━━━━━┩\n",
       "│ input_layer         │ (\u001b[38;5;45mNone\u001b[0m, \u001b[38;5;34m2\u001b[0m)         │          \u001b[38;5;34m0\u001b[0m │ -                 │\n",
       "│ (\u001b[38;5;33mInputLayer\u001b[0m)        │                   │            │                   │\n",
       "├─────────────────────┼───────────────────┼────────────┼───────────────────┤\n",
       "│ dense (\u001b[38;5;33mDense\u001b[0m)       │ (\u001b[38;5;45mNone\u001b[0m, \u001b[38;5;34m64\u001b[0m)        │        \u001b[38;5;34m192\u001b[0m │ input_layer[\u001b[38;5;34m0\u001b[0m][\u001b[38;5;34m0\u001b[0m] │\n",
       "├─────────────────────┼───────────────────┼────────────┼───────────────────┤\n",
       "│ dropout (\u001b[38;5;33mDropout\u001b[0m)   │ (\u001b[38;5;45mNone\u001b[0m, \u001b[38;5;34m64\u001b[0m)        │          \u001b[38;5;34m0\u001b[0m │ dense[\u001b[38;5;34m0\u001b[0m][\u001b[38;5;34m0\u001b[0m]       │\n",
       "├─────────────────────┼───────────────────┼────────────┼───────────────────┤\n",
       "│ dense_1 (\u001b[38;5;33mDense\u001b[0m)     │ (\u001b[38;5;45mNone\u001b[0m, \u001b[38;5;34m32\u001b[0m)        │      \u001b[38;5;34m2,080\u001b[0m │ dropout[\u001b[38;5;34m0\u001b[0m][\u001b[38;5;34m0\u001b[0m]     │\n",
       "├─────────────────────┼───────────────────┼────────────┼───────────────────┤\n",
       "│ duration (\u001b[38;5;33mDense\u001b[0m)    │ (\u001b[38;5;45mNone\u001b[0m, \u001b[38;5;34m1\u001b[0m)         │         \u001b[38;5;34m33\u001b[0m │ dense_1[\u001b[38;5;34m0\u001b[0m][\u001b[38;5;34m0\u001b[0m]     │\n",
       "├─────────────────────┼───────────────────┼────────────┼───────────────────┤\n",
       "│ status (\u001b[38;5;33mDense\u001b[0m)      │ (\u001b[38;5;45mNone\u001b[0m, \u001b[38;5;34m2\u001b[0m)         │         \u001b[38;5;34m66\u001b[0m │ dense_1[\u001b[38;5;34m0\u001b[0m][\u001b[38;5;34m0\u001b[0m]     │\n",
       "└─────────────────────┴───────────────────┴────────────┴───────────────────┘\n"
      ]
     },
     "metadata": {},
     "output_type": "display_data"
    },
    {
     "data": {
      "text/html": [
       "<pre style=\"white-space:pre;overflow-x:auto;line-height:normal;font-family:Menlo,'DejaVu Sans Mono',consolas,'Courier New',monospace\"><span style=\"font-weight: bold\"> Total params: </span><span style=\"color: #00af00; text-decoration-color: #00af00\">2,371</span> (9.26 KB)\n",
       "</pre>\n"
      ],
      "text/plain": [
       "\u001b[1m Total params: \u001b[0m\u001b[38;5;34m2,371\u001b[0m (9.26 KB)\n"
      ]
     },
     "metadata": {},
     "output_type": "display_data"
    },
    {
     "data": {
      "text/html": [
       "<pre style=\"white-space:pre;overflow-x:auto;line-height:normal;font-family:Menlo,'DejaVu Sans Mono',consolas,'Courier New',monospace\"><span style=\"font-weight: bold\"> Trainable params: </span><span style=\"color: #00af00; text-decoration-color: #00af00\">2,371</span> (9.26 KB)\n",
       "</pre>\n"
      ],
      "text/plain": [
       "\u001b[1m Trainable params: \u001b[0m\u001b[38;5;34m2,371\u001b[0m (9.26 KB)\n"
      ]
     },
     "metadata": {},
     "output_type": "display_data"
    },
    {
     "data": {
      "text/html": [
       "<pre style=\"white-space:pre;overflow-x:auto;line-height:normal;font-family:Menlo,'DejaVu Sans Mono',consolas,'Courier New',monospace\"><span style=\"font-weight: bold\"> Non-trainable params: </span><span style=\"color: #00af00; text-decoration-color: #00af00\">0</span> (0.00 B)\n",
       "</pre>\n"
      ],
      "text/plain": [
       "\u001b[1m Non-trainable params: \u001b[0m\u001b[38;5;34m0\u001b[0m (0.00 B)\n"
      ]
     },
     "metadata": {},
     "output_type": "display_data"
    }
   ],
   "source": [
    "# Compile the model\n",
    "model.compile(optimizer='adam',\n",
    "              loss={'duration': 'mse', 'status': 'categorical_crossentropy'},\n",
    "              loss_weights={'duration': 1.0, 'status': 2.0},  # Adjust weights as needed\n",
    "              metrics={'duration': ['mse'], 'status': ['accuracy']})\n",
    "\n",
    "model.summary()"
   ]
  },
  {
   "cell_type": "code",
   "execution_count": 33,
   "id": "bd6cff1b-3684-47cd-aa0a-37f4d25f0c60",
   "metadata": {},
   "outputs": [],
   "source": [
    "# Early stopping with patience 5\n",
    "early_stopping = EarlyStopping(monitor='val_loss', patience=5, restore_best_weights=True)"
   ]
  },
  {
   "cell_type": "code",
   "execution_count": 34,
   "id": "14e52c7a-4fb0-4539-aa2a-3e9328fe5869",
   "metadata": {
    "tags": []
   },
   "outputs": [
    {
     "name": "stdout",
     "output_type": "stream",
     "text": [
      "Epoch 1/100\n",
      "\u001b[1m41229/41229\u001b[0m \u001b[32m━━━━━━━━━━━━━━━━━━━━\u001b[0m\u001b[37m\u001b[0m \u001b[1m32s\u001b[0m 763us/step - duration_mse: 30.2538 - loss: 30.4510 - status_accuracy: 0.9836 - val_duration_mse: 26.5427 - val_loss: 26.6964 - val_status_accuracy: 0.9840\n",
      "Epoch 2/100\n",
      "\u001b[1m41229/41229\u001b[0m \u001b[32m━━━━━━━━━━━━━━━━━━━━\u001b[0m\u001b[37m\u001b[0m \u001b[1m30s\u001b[0m 719us/step - duration_mse: 26.4826 - loss: 26.6377 - status_accuracy: 0.9837 - val_duration_mse: 26.4887 - val_loss: 26.6409 - val_status_accuracy: 0.9840\n",
      "Epoch 3/100\n",
      "\u001b[1m41229/41229\u001b[0m \u001b[32m━━━━━━━━━━━━━━━━━━━━\u001b[0m\u001b[37m\u001b[0m \u001b[1m29s\u001b[0m 706us/step - duration_mse: 26.5276 - loss: 26.6822 - status_accuracy: 0.9837 - val_duration_mse: 26.4858 - val_loss: 26.6371 - val_status_accuracy: 0.9840\n",
      "Epoch 4/100\n",
      "\u001b[1m41229/41229\u001b[0m \u001b[32m━━━━━━━━━━━━━━━━━━━━\u001b[0m\u001b[37m\u001b[0m \u001b[1m28s\u001b[0m 680us/step - duration_mse: 26.5331 - loss: 26.6868 - status_accuracy: 0.9838 - val_duration_mse: 26.4941 - val_loss: 26.6458 - val_status_accuracy: 0.9840\n",
      "Epoch 5/100\n",
      "\u001b[1m41229/41229\u001b[0m \u001b[32m━━━━━━━━━━━━━━━━━━━━\u001b[0m\u001b[37m\u001b[0m \u001b[1m29s\u001b[0m 707us/step - duration_mse: 26.5224 - loss: 26.6760 - status_accuracy: 0.9838 - val_duration_mse: 26.4935 - val_loss: 26.6454 - val_status_accuracy: 0.9840\n",
      "Epoch 6/100\n",
      "\u001b[1m41229/41229\u001b[0m \u001b[32m━━━━━━━━━━━━━━━━━━━━\u001b[0m\u001b[37m\u001b[0m \u001b[1m33s\u001b[0m 794us/step - duration_mse: 26.5254 - loss: 26.6788 - status_accuracy: 0.9838 - val_duration_mse: 26.4965 - val_loss: 26.6483 - val_status_accuracy: 0.9840\n",
      "Epoch 7/100\n",
      "\u001b[1m41229/41229\u001b[0m \u001b[32m━━━━━━━━━━━━━━━━━━━━\u001b[0m\u001b[37m\u001b[0m \u001b[1m33s\u001b[0m 796us/step - duration_mse: 26.5297 - loss: 26.6837 - status_accuracy: 0.9837 - val_duration_mse: 26.5007 - val_loss: 26.6517 - val_status_accuracy: 0.9840\n",
      "Epoch 8/100\n",
      "\u001b[1m41229/41229\u001b[0m \u001b[32m━━━━━━━━━━━━━━━━━━━━\u001b[0m\u001b[37m\u001b[0m \u001b[1m28s\u001b[0m 689us/step - duration_mse: 26.5173 - loss: 26.6703 - status_accuracy: 0.9839 - val_duration_mse: 26.4867 - val_loss: 26.6384 - val_status_accuracy: 0.9840\n"
     ]
    }
   ],
   "source": [
    "# Training the model\n",
    "history = model.fit(\n",
    "    x=X_train_scaled,\n",
    "    y={'duration': y_train_duration, 'status': y_train_status_categorical},\n",
    "    validation_split=0.2,\n",
    "    epochs=100,  \n",
    "    batch_size=64,\n",
    "    callbacks=[early_stopping]\n",
    ")"
   ]
  },
  {
   "cell_type": "code",
   "execution_count": 35,
   "id": "34ab0b46-e8b5-4749-95a3-6c9d94a42b80",
   "metadata": {},
   "outputs": [
    {
     "name": "stdout",
     "output_type": "stream",
     "text": [
      "\u001b[1m25768/25768\u001b[0m \u001b[32m━━━━━━━━━━━━━━━━━━━━\u001b[0m\u001b[37m\u001b[0m \u001b[1m10s\u001b[0m 372us/step - duration_mse: 26.4285 - loss: 26.5820 - status_accuracy: 0.9836\n",
      "Test Loss: 26.59313201904297, Duration MSE: 26.440404891967773, Status Accuracy: 0.9836375117301941\n"
     ]
    }
   ],
   "source": [
    "test_results = model.evaluate(\n",
    "    X_test_scaled,\n",
    "    {'duration': y_test_duration, 'status': y_test_status_categorical}\n",
    ")\n",
    "print(f'Test Loss: {test_results[0]}, Duration MSE: {test_results[1]}, Status Accuracy: {test_results[2]}')"
   ]
  },
  {
   "cell_type": "code",
   "execution_count": 36,
   "id": "183d3aa3-c542-4d15-a153-2096d295fc10",
   "metadata": {},
   "outputs": [
    {
     "name": "stdout",
     "output_type": "stream",
     "text": [
      "\u001b[1m25768/25768\u001b[0m \u001b[32m━━━━━━━━━━━━━━━━━━━━\u001b[0m\u001b[37m\u001b[0m \u001b[1m10s\u001b[0m 382us/step\n"
     ]
    }
   ],
   "source": [
    "predictions = model.predict(X_test_scaled)\n",
    "predicted_duration, predicted_status = predictions\n",
    "predicted_status_labels = np.argmax(predicted_status, axis=1)"
   ]
  },
  {
   "cell_type": "code",
   "execution_count": 37,
   "id": "b5914ca6-8254-43ff-adcc-e60af6df21eb",
   "metadata": {},
   "outputs": [
    {
     "name": "stdout",
     "output_type": "stream",
     "text": [
      "Accuracy: 0.9836374926021868\n",
      "Precision: 0.9836374926021868\n",
      "Recall: 1.0\n",
      "F1 Score: 0.9917512612769038\n"
     ]
    }
   ],
   "source": [
    "predicted_labels = np.argmax(predicted_status, axis=1)\n",
    "true_labels = np.argmax(y_test_status_categorical, axis=1)\n",
    "accuracy = accuracy_score(true_labels, predicted_labels)\n",
    "precision = precision_score(true_labels, predicted_labels)\n",
    "recall = recall_score(true_labels, predicted_labels)\n",
    "f1 = f1_score(true_labels, predicted_labels)\n",
    "\n",
    "print(f\"Accuracy: {accuracy}\")\n",
    "print(f\"Precision: {precision}\")\n",
    "print(f\"Recall: {recall}\")\n",
    "print(f\"F1 Score: {f1}\")"
   ]
  },
  {
   "cell_type": "code",
   "execution_count": 38,
   "id": "6f65962d-d94e-482f-9350-407583a42f31",
   "metadata": {},
   "outputs": [
    {
     "name": "stderr",
     "output_type": "stream",
     "text": [
      "WARNING:absl:You are saving your model as an HDF5 file via `model.save()` or `keras.saving.save_model(model)`. This file format is considered legacy. We recommend using instead the native Keras format, e.g. `model.save('my_model.keras')` or `keras.saving.save_model(model, 'my_model.keras')`. \n"
     ]
    }
   ],
   "source": [
    "model.save(\"/Users/reginaldgonzales/Desktop/GITHUB/DOH_Prediction/model.h5\")"
   ]
  },
  {
   "cell_type": "markdown",
   "id": "560d1628-5419-4571-8b97-8343cc09fe4f",
   "metadata": {},
   "source": [
    "[ref2]: #top\n",
    "[Back to Table of Contents][ref2]"
   ]
  },
  {
   "cell_type": "markdown",
   "id": "6b1a167d-c854-4b1f-ac65-a0f001f82c26",
   "metadata": {},
   "source": [
    "# Conclusion\n",
    "***\n",
    "The Feedforward Neural Network (FNN) model achieved promising results in predicting COVID-19 survival time and recovery status for Filipino patients using \"Sex\" and \"AgeGroup\" as features. Here's a breakdown of the performance metrics:\n",
    "\n",
    "**Accuracy: 98.4%** - The model correctly classified nearly all recovery statuses (Recovered vs. Dead) in the unseen test data.\n",
    "\n",
    "**Precision: 98.4%** - When the model predicted someone as Recovered, they were genuinely Recovered with a high probability.\n",
    "\n",
    "**Recall: 100%** - The model identified all actual Recovered cases from the test data.\n",
    "\n",
    "**F1-Score: 99.2** - This balanced metric combines precision and recall, indicating the model's effectiveness in predicting Recovered cases and avoiding false positives.\n",
    "\n",
    "These results suggest that the FNN model is a valuable tool for healthcare professionals to gain insights into a patient's COVID-19 prognosis based on readily available demographic information. However, it's important to acknowledge the limitations:\n",
    "\n",
    "- The model is trained on a specific dataset and might generalize differently to other populations.\n",
    "- The model only considers \"Sex\" and \"AgeGroup,\" and incorporating additional factors like pre-existing conditions could improve performance.\n",
    "\n"
   ]
  }
 ],
 "metadata": {
  "kernelspec": {
   "display_name": "Python 3 (ipykernel)",
   "language": "python",
   "name": "python3"
  },
  "language_info": {
   "codemirror_mode": {
    "name": "ipython",
    "version": 3
   },
   "file_extension": ".py",
   "mimetype": "text/x-python",
   "name": "python",
   "nbconvert_exporter": "python",
   "pygments_lexer": "ipython3",
   "version": "3.10.9"
  }
 },
 "nbformat": 4,
 "nbformat_minor": 5
}
