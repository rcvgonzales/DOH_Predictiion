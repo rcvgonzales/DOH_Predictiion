{
 "cells": [
  {
   "cell_type": "code",
   "execution_count": 1,
   "id": "b5b0ed2b-f143-48f7-9118-2d43b59c5eb7",
   "metadata": {},
   "outputs": [],
   "source": [
    "# Importing of Modules\n",
    "import pandas as pd\n",
    "import numpy as np\n",
    "import matplotlib.pyplot as plt\n",
    "import seaborn as sns\n",
    "from lifelines import KaplanMeierFitter"
   ]
  },
  {
   "cell_type": "markdown",
   "id": "35bab7ee-29dd-4eb5-9c3b-0e3de48bf9ae",
   "metadata": {},
   "source": [
    "## Data Preprocessing"
   ]
  },
  {
   "cell_type": "code",
   "execution_count": 2,
   "id": "856b8730-1d0d-476f-a817-3732409ff251",
   "metadata": {},
   "outputs": [],
   "source": [
    "batch_data_0 = pd.read_csv('/Users/reginaldgonzales/Desktop/GITHUB/DOH_Prediction/dataset/DOH COVID Data Drop_ 20240103 (2020-2023) - 04 Case Information_batch_0.csv', low_memory=False)\n",
    "batch_data_1 = pd.read_csv('/Users/reginaldgonzales/Desktop/GITHUB/DOH_Prediction/dataset/DOH COVID Data Drop_ 20240103 (2020-2023) - 04 Case Information_batch_1.csv', low_memory=False)\n",
    "batch_data_2 = pd.read_csv('/Users/reginaldgonzales/Desktop/GITHUB/DOH_Prediction/dataset/DOH COVID Data Drop_ 20240103 (2020-2023) - 04 Case Information_batch_2.csv', low_memory=False)\n",
    "batch_data_3 = pd.read_csv('/Users/reginaldgonzales/Desktop/GITHUB/DOH_Prediction/dataset/DOH COVID Data Drop_ 20240103 (2020-2023) - 04 Case Information_batch_3.csv', low_memory=False)\n",
    "batch_data_4 = pd.read_csv('/Users/reginaldgonzales/Desktop/GITHUB/DOH_Prediction/dataset/DOH COVID Data Drop_ 20240103 (2020-2023) - 04 Case Information_batch_4.csv', low_memory=False)"
   ]
  },
  {
   "cell_type": "code",
   "execution_count": 3,
   "id": "fee44974-d66a-4181-b735-fe19b933200a",
   "metadata": {},
   "outputs": [],
   "source": [
    "df = pd.concat([batch_data_0, batch_data_1, batch_data_2, batch_data_3, batch_data_4], ignore_index=True)"
   ]
  },
  {
   "cell_type": "code",
   "execution_count": 4,
   "id": "e40a8768-45b9-461c-8798-ef28bda7215f",
   "metadata": {},
   "outputs": [
    {
     "data": {
      "text/html": [
       "<div>\n",
       "<style scoped>\n",
       "    .dataframe tbody tr th:only-of-type {\n",
       "        vertical-align: middle;\n",
       "    }\n",
       "\n",
       "    .dataframe tbody tr th {\n",
       "        vertical-align: top;\n",
       "    }\n",
       "\n",
       "    .dataframe thead th {\n",
       "        text-align: right;\n",
       "    }\n",
       "</style>\n",
       "<table border=\"1\" class=\"dataframe\">\n",
       "  <thead>\n",
       "    <tr style=\"text-align: right;\">\n",
       "      <th></th>\n",
       "      <th>CaseCode</th>\n",
       "      <th>Age</th>\n",
       "      <th>AgeGroup</th>\n",
       "      <th>Sex</th>\n",
       "      <th>DateSpecimen</th>\n",
       "      <th>DateResultRelease</th>\n",
       "      <th>DateRepConf</th>\n",
       "      <th>DateDied</th>\n",
       "      <th>DateRecover</th>\n",
       "      <th>RemovalType</th>\n",
       "      <th>...</th>\n",
       "      <th>ProvRes</th>\n",
       "      <th>CityMunRes</th>\n",
       "      <th>CityMuniPSGC</th>\n",
       "      <th>BarangayRes</th>\n",
       "      <th>BarangayPSGC</th>\n",
       "      <th>HealthStatus</th>\n",
       "      <th>Quarantined</th>\n",
       "      <th>DateOnset</th>\n",
       "      <th>Pregnanttab</th>\n",
       "      <th>ValidationStatus</th>\n",
       "    </tr>\n",
       "  </thead>\n",
       "  <tbody>\n",
       "    <tr>\n",
       "      <th>0</th>\n",
       "      <td>C404174</td>\n",
       "      <td>38.0</td>\n",
       "      <td>35 to 39</td>\n",
       "      <td>FEMALE</td>\n",
       "      <td>NaN</td>\n",
       "      <td>2020-01-30</td>\n",
       "      <td>2020-01-30</td>\n",
       "      <td>NaN</td>\n",
       "      <td>NaN</td>\n",
       "      <td>RECOVERED</td>\n",
       "      <td>...</td>\n",
       "      <td>NEGROS ORIENTAL</td>\n",
       "      <td>DUMAGUETE CITY (CAPITAL)</td>\n",
       "      <td>PH074610000</td>\n",
       "      <td>NaN</td>\n",
       "      <td>NaN</td>\n",
       "      <td>RECOVERED</td>\n",
       "      <td>NO</td>\n",
       "      <td>2020-01-21</td>\n",
       "      <td>NO</td>\n",
       "      <td>Removal Type is \"Recovered\", but no Recovered ...</td>\n",
       "    </tr>\n",
       "    <tr>\n",
       "      <th>1</th>\n",
       "      <td>C462688</td>\n",
       "      <td>44.0</td>\n",
       "      <td>40 to 44</td>\n",
       "      <td>MALE</td>\n",
       "      <td>NaN</td>\n",
       "      <td>2020-01-30</td>\n",
       "      <td>2020-02-03</td>\n",
       "      <td>2020-02-01</td>\n",
       "      <td>NaN</td>\n",
       "      <td>DIED</td>\n",
       "      <td>...</td>\n",
       "      <td>NEGROS ORIENTAL</td>\n",
       "      <td>DUMAGUETE CITY (CAPITAL)</td>\n",
       "      <td>PH074610000</td>\n",
       "      <td>NaN</td>\n",
       "      <td>NaN</td>\n",
       "      <td>DIED</td>\n",
       "      <td>NO</td>\n",
       "      <td>2020-01-18</td>\n",
       "      <td>NaN</td>\n",
       "      <td>NaN</td>\n",
       "    </tr>\n",
       "    <tr>\n",
       "      <th>2</th>\n",
       "      <td>C387710</td>\n",
       "      <td>60.0</td>\n",
       "      <td>60 to 64</td>\n",
       "      <td>FEMALE</td>\n",
       "      <td>2020-01-23</td>\n",
       "      <td>2020-01-30</td>\n",
       "      <td>2020-02-05</td>\n",
       "      <td>NaN</td>\n",
       "      <td>2020-01-31</td>\n",
       "      <td>RECOVERED</td>\n",
       "      <td>...</td>\n",
       "      <td>BOHOL</td>\n",
       "      <td>PANGLAO</td>\n",
       "      <td>PH071233000</td>\n",
       "      <td>NaN</td>\n",
       "      <td>NaN</td>\n",
       "      <td>RECOVERED</td>\n",
       "      <td>NO</td>\n",
       "      <td>2020-01-21</td>\n",
       "      <td>NO</td>\n",
       "      <td>Case has Admitting Facility but is not Admitte...</td>\n",
       "    </tr>\n",
       "    <tr>\n",
       "      <th>3</th>\n",
       "      <td>C377460</td>\n",
       "      <td>49.0</td>\n",
       "      <td>45 to 49</td>\n",
       "      <td>MALE</td>\n",
       "      <td>NaN</td>\n",
       "      <td>NaN</td>\n",
       "      <td>2020-03-06</td>\n",
       "      <td>NaN</td>\n",
       "      <td>NaN</td>\n",
       "      <td>RECOVERED</td>\n",
       "      <td>...</td>\n",
       "      <td>BATANGAS</td>\n",
       "      <td>SANTO TOMAS</td>\n",
       "      <td>PH041028000</td>\n",
       "      <td>NaN</td>\n",
       "      <td>NaN</td>\n",
       "      <td>RECOVERED</td>\n",
       "      <td>NO</td>\n",
       "      <td>NaN</td>\n",
       "      <td>NaN</td>\n",
       "      <td>Case has Admitting Facility but is not Admitte...</td>\n",
       "    </tr>\n",
       "    <tr>\n",
       "      <th>4</th>\n",
       "      <td>C498051</td>\n",
       "      <td>63.0</td>\n",
       "      <td>60 to 64</td>\n",
       "      <td>MALE</td>\n",
       "      <td>2020-03-05</td>\n",
       "      <td>NaN</td>\n",
       "      <td>2020-03-06</td>\n",
       "      <td>2020-03-11</td>\n",
       "      <td>NaN</td>\n",
       "      <td>DIED</td>\n",
       "      <td>...</td>\n",
       "      <td>RIZAL</td>\n",
       "      <td>CAINTA</td>\n",
       "      <td>PH045805000</td>\n",
       "      <td>NaN</td>\n",
       "      <td>NaN</td>\n",
       "      <td>DIED</td>\n",
       "      <td>NO</td>\n",
       "      <td>NaN</td>\n",
       "      <td>NaN</td>\n",
       "      <td>Age or Birthdate is Invalid\\nCase has Lab Resu...</td>\n",
       "    </tr>\n",
       "  </tbody>\n",
       "</table>\n",
       "<p>5 rows × 23 columns</p>\n",
       "</div>"
      ],
      "text/plain": [
       "  CaseCode   Age  AgeGroup     Sex DateSpecimen DateResultRelease DateRepConf  \\\n",
       "0  C404174  38.0  35 to 39  FEMALE          NaN        2020-01-30  2020-01-30   \n",
       "1  C462688  44.0  40 to 44    MALE          NaN        2020-01-30  2020-02-03   \n",
       "2  C387710  60.0  60 to 64  FEMALE   2020-01-23        2020-01-30  2020-02-05   \n",
       "3  C377460  49.0  45 to 49    MALE          NaN               NaN  2020-03-06   \n",
       "4  C498051  63.0  60 to 64    MALE   2020-03-05               NaN  2020-03-06   \n",
       "\n",
       "     DateDied DateRecover RemovalType  ...          ProvRes  \\\n",
       "0         NaN         NaN   RECOVERED  ...  NEGROS ORIENTAL   \n",
       "1  2020-02-01         NaN        DIED  ...  NEGROS ORIENTAL   \n",
       "2         NaN  2020-01-31   RECOVERED  ...            BOHOL   \n",
       "3         NaN         NaN   RECOVERED  ...         BATANGAS   \n",
       "4  2020-03-11         NaN        DIED  ...            RIZAL   \n",
       "\n",
       "                 CityMunRes CityMuniPSGC BarangayRes BarangayPSGC  \\\n",
       "0  DUMAGUETE CITY (CAPITAL)  PH074610000         NaN          NaN   \n",
       "1  DUMAGUETE CITY (CAPITAL)  PH074610000         NaN          NaN   \n",
       "2                   PANGLAO  PH071233000         NaN          NaN   \n",
       "3               SANTO TOMAS  PH041028000         NaN          NaN   \n",
       "4                    CAINTA  PH045805000         NaN          NaN   \n",
       "\n",
       "  HealthStatus Quarantined   DateOnset Pregnanttab  \\\n",
       "0    RECOVERED          NO  2020-01-21          NO   \n",
       "1         DIED          NO  2020-01-18         NaN   \n",
       "2    RECOVERED          NO  2020-01-21          NO   \n",
       "3    RECOVERED          NO         NaN         NaN   \n",
       "4         DIED          NO         NaN         NaN   \n",
       "\n",
       "                                    ValidationStatus  \n",
       "0  Removal Type is \"Recovered\", but no Recovered ...  \n",
       "1                                                NaN  \n",
       "2  Case has Admitting Facility but is not Admitte...  \n",
       "3  Case has Admitting Facility but is not Admitte...  \n",
       "4  Age or Birthdate is Invalid\\nCase has Lab Resu...  \n",
       "\n",
       "[5 rows x 23 columns]"
      ]
     },
     "execution_count": 4,
     "metadata": {},
     "output_type": "execute_result"
    }
   ],
   "source": [
    "df.head()"
   ]
  },
  {
   "cell_type": "code",
   "execution_count": 5,
   "id": "5ce083f4-1c0b-4cb7-a9f8-b9c1dece6f2c",
   "metadata": {},
   "outputs": [
    {
     "data": {
      "text/plain": [
       "(4136488, 23)"
      ]
     },
     "execution_count": 5,
     "metadata": {},
     "output_type": "execute_result"
    }
   ],
   "source": [
    "df.shape"
   ]
  },
  {
   "cell_type": "code",
   "execution_count": 6,
   "id": "f65d931e-1344-46ce-bec4-dc0414893e8b",
   "metadata": {},
   "outputs": [
    {
     "data": {
      "text/plain": [
       "['CaseCode',\n",
       " 'Age',\n",
       " 'AgeGroup',\n",
       " 'Sex',\n",
       " 'DateSpecimen',\n",
       " 'DateResultRelease',\n",
       " 'DateRepConf',\n",
       " 'DateDied',\n",
       " 'DateRecover',\n",
       " 'RemovalType',\n",
       " 'DateRepRem',\n",
       " 'Admitted',\n",
       " 'RegionRes',\n",
       " 'ProvRes',\n",
       " 'CityMunRes',\n",
       " 'CityMuniPSGC',\n",
       " 'BarangayRes',\n",
       " 'BarangayPSGC',\n",
       " 'HealthStatus',\n",
       " 'Quarantined',\n",
       " 'DateOnset',\n",
       " 'Pregnanttab',\n",
       " 'ValidationStatus']"
      ]
     },
     "execution_count": 6,
     "metadata": {},
     "output_type": "execute_result"
    }
   ],
   "source": [
    "df.columns.tolist()"
   ]
  },
  {
   "cell_type": "code",
   "execution_count": 7,
   "id": "efe20d01-f9d1-4047-a6a7-689f396f69a3",
   "metadata": {},
   "outputs": [
    {
     "data": {
      "text/plain": [
       "CaseCode                   0\n",
       "Age                    11898\n",
       "AgeGroup               11898\n",
       "Sex                        1\n",
       "DateSpecimen          975556\n",
       "DateResultRelease     976231\n",
       "DateRepConf                0\n",
       "DateDied             4070302\n",
       "DateRecover          3404454\n",
       "RemovalType             1773\n",
       "DateRepRem              1773\n",
       "Admitted              173623\n",
       "RegionRes               3882\n",
       "ProvRes                57369\n",
       "CityMunRes            105525\n",
       "CityMuniPSGC          111496\n",
       "BarangayRes           369066\n",
       "BarangayPSGC          374907\n",
       "HealthStatus               0\n",
       "Quarantined           115223\n",
       "DateOnset            2644554\n",
       "Pregnanttab          2068927\n",
       "ValidationStatus       46925\n",
       "dtype: int64"
      ]
     },
     "execution_count": 7,
     "metadata": {},
     "output_type": "execute_result"
    }
   ],
   "source": [
    "df.isnull().sum()"
   ]
  },
  {
   "cell_type": "markdown",
   "id": "e838e3a9-9d43-4d78-bffc-88d2ba29d9bd",
   "metadata": {},
   "source": [
    "## Feature Selection"
   ]
  },
  {
   "cell_type": "code",
   "execution_count": 8,
   "id": "81d5eb48-2d99-4a4d-a6ea-e9737e8942f5",
   "metadata": {},
   "outputs": [],
   "source": [
    "doh_df = df[['Sex', 'Age', 'DateOnset', 'DateRecover',\n",
    "             'DateDied', 'RemovalType', 'DateRepRem',\n",
    "             'DateResultRelease', 'DateRepConf'\n",
    "            \n",
    "            ]]"
   ]
  },
  {
   "cell_type": "code",
   "execution_count": 9,
   "id": "988063c5-2934-4951-bea0-58e4631fcd31",
   "metadata": {},
   "outputs": [
    {
     "data": {
      "text/html": [
       "<div>\n",
       "<style scoped>\n",
       "    .dataframe tbody tr th:only-of-type {\n",
       "        vertical-align: middle;\n",
       "    }\n",
       "\n",
       "    .dataframe tbody tr th {\n",
       "        vertical-align: top;\n",
       "    }\n",
       "\n",
       "    .dataframe thead th {\n",
       "        text-align: right;\n",
       "    }\n",
       "</style>\n",
       "<table border=\"1\" class=\"dataframe\">\n",
       "  <thead>\n",
       "    <tr style=\"text-align: right;\">\n",
       "      <th></th>\n",
       "      <th>Sex</th>\n",
       "      <th>Age</th>\n",
       "      <th>DateOnset</th>\n",
       "      <th>DateRecover</th>\n",
       "      <th>DateDied</th>\n",
       "      <th>RemovalType</th>\n",
       "      <th>DateRepRem</th>\n",
       "      <th>DateResultRelease</th>\n",
       "      <th>DateRepConf</th>\n",
       "    </tr>\n",
       "  </thead>\n",
       "  <tbody>\n",
       "    <tr>\n",
       "      <th>0</th>\n",
       "      <td>FEMALE</td>\n",
       "      <td>38.0</td>\n",
       "      <td>2020-01-21</td>\n",
       "      <td>NaN</td>\n",
       "      <td>NaN</td>\n",
       "      <td>RECOVERED</td>\n",
       "      <td>2020-02-07</td>\n",
       "      <td>2020-01-30</td>\n",
       "      <td>2020-01-30</td>\n",
       "    </tr>\n",
       "    <tr>\n",
       "      <th>1</th>\n",
       "      <td>MALE</td>\n",
       "      <td>44.0</td>\n",
       "      <td>2020-01-18</td>\n",
       "      <td>NaN</td>\n",
       "      <td>2020-02-01</td>\n",
       "      <td>DIED</td>\n",
       "      <td>2020-02-02</td>\n",
       "      <td>2020-01-30</td>\n",
       "      <td>2020-02-03</td>\n",
       "    </tr>\n",
       "    <tr>\n",
       "      <th>2</th>\n",
       "      <td>FEMALE</td>\n",
       "      <td>60.0</td>\n",
       "      <td>2020-01-21</td>\n",
       "      <td>2020-01-31</td>\n",
       "      <td>NaN</td>\n",
       "      <td>RECOVERED</td>\n",
       "      <td>2020-02-05</td>\n",
       "      <td>2020-01-30</td>\n",
       "      <td>2020-02-05</td>\n",
       "    </tr>\n",
       "    <tr>\n",
       "      <th>3</th>\n",
       "      <td>MALE</td>\n",
       "      <td>49.0</td>\n",
       "      <td>NaN</td>\n",
       "      <td>NaN</td>\n",
       "      <td>NaN</td>\n",
       "      <td>RECOVERED</td>\n",
       "      <td>2020-03-27</td>\n",
       "      <td>NaN</td>\n",
       "      <td>2020-03-06</td>\n",
       "    </tr>\n",
       "    <tr>\n",
       "      <th>4</th>\n",
       "      <td>MALE</td>\n",
       "      <td>63.0</td>\n",
       "      <td>NaN</td>\n",
       "      <td>NaN</td>\n",
       "      <td>2020-03-11</td>\n",
       "      <td>DIED</td>\n",
       "      <td>2020-03-12</td>\n",
       "      <td>NaN</td>\n",
       "      <td>2020-03-06</td>\n",
       "    </tr>\n",
       "  </tbody>\n",
       "</table>\n",
       "</div>"
      ],
      "text/plain": [
       "      Sex   Age   DateOnset DateRecover    DateDied RemovalType  DateRepRem  \\\n",
       "0  FEMALE  38.0  2020-01-21         NaN         NaN   RECOVERED  2020-02-07   \n",
       "1    MALE  44.0  2020-01-18         NaN  2020-02-01        DIED  2020-02-02   \n",
       "2  FEMALE  60.0  2020-01-21  2020-01-31         NaN   RECOVERED  2020-02-05   \n",
       "3    MALE  49.0         NaN         NaN         NaN   RECOVERED  2020-03-27   \n",
       "4    MALE  63.0         NaN         NaN  2020-03-11        DIED  2020-03-12   \n",
       "\n",
       "  DateResultRelease DateRepConf  \n",
       "0        2020-01-30  2020-01-30  \n",
       "1        2020-01-30  2020-02-03  \n",
       "2        2020-01-30  2020-02-05  \n",
       "3               NaN  2020-03-06  \n",
       "4               NaN  2020-03-06  "
      ]
     },
     "execution_count": 9,
     "metadata": {},
     "output_type": "execute_result"
    }
   ],
   "source": [
    "doh_df.head()"
   ]
  },
  {
   "cell_type": "code",
   "execution_count": 10,
   "id": "d954a0c7-eccb-4726-96ba-35c356e11910",
   "metadata": {},
   "outputs": [],
   "source": [
    "# Drop rows where 'Age' or 'Sex' is NaN\n",
    "doh_df = doh_df.dropna(subset=['Age', 'Sex', 'RemovalType'])\n",
    "doh_df.isnull().sum()\n",
    "doh_df = doh_df[doh_df['Age'] >= 0]"
   ]
  },
  {
   "cell_type": "code",
   "execution_count": 11,
   "id": "98b65e30-61f8-4ee0-b118-df42ef69dc9e",
   "metadata": {},
   "outputs": [
    {
     "data": {
      "text/plain": [
       "Sex                        0\n",
       "Age                        0\n",
       "DateOnset            2637370\n",
       "DateRecover          3392573\n",
       "DateDied             4056744\n",
       "RemovalType                0\n",
       "DateRepRem                 0\n",
       "DateResultRelease     975334\n",
       "DateRepConf                0\n",
       "dtype: int64"
      ]
     },
     "execution_count": 11,
     "metadata": {},
     "output_type": "execute_result"
    }
   ],
   "source": [
    "doh_df.isnull().sum()"
   ]
  },
  {
   "cell_type": "code",
   "execution_count": 12,
   "id": "f9c6981e-d553-45f2-8f49-d03a77f0ef07",
   "metadata": {},
   "outputs": [
    {
     "data": {
      "text/plain": [
       "(4122840, 9)"
      ]
     },
     "execution_count": 12,
     "metadata": {},
     "output_type": "execute_result"
    }
   ],
   "source": [
    "doh_df.shape"
   ]
  },
  {
   "cell_type": "code",
   "execution_count": 13,
   "id": "1e8da72d-185a-4634-b83e-8c3d11fe6d20",
   "metadata": {},
   "outputs": [
    {
     "data": {
      "text/html": [
       "<div>\n",
       "<style scoped>\n",
       "    .dataframe tbody tr th:only-of-type {\n",
       "        vertical-align: middle;\n",
       "    }\n",
       "\n",
       "    .dataframe tbody tr th {\n",
       "        vertical-align: top;\n",
       "    }\n",
       "\n",
       "    .dataframe thead th {\n",
       "        text-align: right;\n",
       "    }\n",
       "</style>\n",
       "<table border=\"1\" class=\"dataframe\">\n",
       "  <thead>\n",
       "    <tr style=\"text-align: right;\">\n",
       "      <th></th>\n",
       "      <th>Sex</th>\n",
       "      <th>Age</th>\n",
       "      <th>DateOnset</th>\n",
       "      <th>DateRecover</th>\n",
       "      <th>DateDied</th>\n",
       "      <th>RemovalType</th>\n",
       "      <th>DateRepRem</th>\n",
       "      <th>DateResultRelease</th>\n",
       "      <th>DateRepConf</th>\n",
       "    </tr>\n",
       "  </thead>\n",
       "  <tbody>\n",
       "    <tr>\n",
       "      <th>0</th>\n",
       "      <td>FEMALE</td>\n",
       "      <td>38.0</td>\n",
       "      <td>2020-01-21</td>\n",
       "      <td>NaN</td>\n",
       "      <td>NaN</td>\n",
       "      <td>RECOVERED</td>\n",
       "      <td>2020-02-07</td>\n",
       "      <td>2020-01-30</td>\n",
       "      <td>2020-01-30</td>\n",
       "    </tr>\n",
       "    <tr>\n",
       "      <th>1</th>\n",
       "      <td>MALE</td>\n",
       "      <td>44.0</td>\n",
       "      <td>2020-01-18</td>\n",
       "      <td>NaN</td>\n",
       "      <td>2020-02-01</td>\n",
       "      <td>DIED</td>\n",
       "      <td>2020-02-02</td>\n",
       "      <td>2020-01-30</td>\n",
       "      <td>2020-02-03</td>\n",
       "    </tr>\n",
       "    <tr>\n",
       "      <th>2</th>\n",
       "      <td>FEMALE</td>\n",
       "      <td>60.0</td>\n",
       "      <td>2020-01-21</td>\n",
       "      <td>2020-01-31</td>\n",
       "      <td>NaN</td>\n",
       "      <td>RECOVERED</td>\n",
       "      <td>2020-02-05</td>\n",
       "      <td>2020-01-30</td>\n",
       "      <td>2020-02-05</td>\n",
       "    </tr>\n",
       "    <tr>\n",
       "      <th>3</th>\n",
       "      <td>MALE</td>\n",
       "      <td>49.0</td>\n",
       "      <td>NaN</td>\n",
       "      <td>NaN</td>\n",
       "      <td>NaN</td>\n",
       "      <td>RECOVERED</td>\n",
       "      <td>2020-03-27</td>\n",
       "      <td>NaN</td>\n",
       "      <td>2020-03-06</td>\n",
       "    </tr>\n",
       "    <tr>\n",
       "      <th>4</th>\n",
       "      <td>MALE</td>\n",
       "      <td>63.0</td>\n",
       "      <td>NaN</td>\n",
       "      <td>NaN</td>\n",
       "      <td>2020-03-11</td>\n",
       "      <td>DIED</td>\n",
       "      <td>2020-03-12</td>\n",
       "      <td>NaN</td>\n",
       "      <td>2020-03-06</td>\n",
       "    </tr>\n",
       "  </tbody>\n",
       "</table>\n",
       "</div>"
      ],
      "text/plain": [
       "      Sex   Age   DateOnset DateRecover    DateDied RemovalType  DateRepRem  \\\n",
       "0  FEMALE  38.0  2020-01-21         NaN         NaN   RECOVERED  2020-02-07   \n",
       "1    MALE  44.0  2020-01-18         NaN  2020-02-01        DIED  2020-02-02   \n",
       "2  FEMALE  60.0  2020-01-21  2020-01-31         NaN   RECOVERED  2020-02-05   \n",
       "3    MALE  49.0         NaN         NaN         NaN   RECOVERED  2020-03-27   \n",
       "4    MALE  63.0         NaN         NaN  2020-03-11        DIED  2020-03-12   \n",
       "\n",
       "  DateResultRelease DateRepConf  \n",
       "0        2020-01-30  2020-01-30  \n",
       "1        2020-01-30  2020-02-03  \n",
       "2        2020-01-30  2020-02-05  \n",
       "3               NaN  2020-03-06  \n",
       "4               NaN  2020-03-06  "
      ]
     },
     "execution_count": 13,
     "metadata": {},
     "output_type": "execute_result"
    }
   ],
   "source": [
    "doh_df.head()"
   ]
  },
  {
   "cell_type": "markdown",
   "id": "b2f7ace5-d0e5-499e-9c9c-9f1c4dce580e",
   "metadata": {},
   "source": [
    "## Feature Engineering"
   ]
  },
  {
   "cell_type": "code",
   "execution_count": 14,
   "id": "bfa9fb00-7da6-4ad6-8f0b-9e4007abbec9",
   "metadata": {},
   "outputs": [],
   "source": [
    "# Add a new column named \"COVID Positive Dates\" to record the dates someone had COVID.\n",
    "doh_df['DateOnset'] = pd.to_datetime(doh_df['DateOnset'], errors='coerce', format='%Y-%m-%d')\n",
    "doh_df['DateRecover'] = pd.to_datetime(doh_df['DateRecover'], errors='coerce', format='%Y-%m-%d')\n",
    "doh_df['DateDied'] = pd.to_datetime(doh_df['DateDied'], errors='coerce', format='%Y-%m-%d')\n",
    "doh_df['DateRepRem'] = pd.to_datetime(doh_df['DateRepRem'], errors='coerce', format='%Y-%m-%d')\n",
    "doh_df['DateResultRelease'] = pd.to_datetime(doh_df['DateResultRelease'], errors='coerce', format='%Y-%m-%d')\n",
    "doh_df['DateRepConf'] = pd.to_datetime(doh_df['DateRepConf'], errors='coerce', format='%Y-%m-%d')"
   ]
  },
  {
   "cell_type": "code",
   "execution_count": 15,
   "id": "009c2f91-73c6-4216-a01a-0bca71f94c29",
   "metadata": {},
   "outputs": [
    {
     "data": {
      "text/html": [
       "<div>\n",
       "<style scoped>\n",
       "    .dataframe tbody tr th:only-of-type {\n",
       "        vertical-align: middle;\n",
       "    }\n",
       "\n",
       "    .dataframe tbody tr th {\n",
       "        vertical-align: top;\n",
       "    }\n",
       "\n",
       "    .dataframe thead th {\n",
       "        text-align: right;\n",
       "    }\n",
       "</style>\n",
       "<table border=\"1\" class=\"dataframe\">\n",
       "  <thead>\n",
       "    <tr style=\"text-align: right;\">\n",
       "      <th></th>\n",
       "      <th>Sex</th>\n",
       "      <th>Age</th>\n",
       "      <th>DateOnset</th>\n",
       "      <th>DateRecover</th>\n",
       "      <th>DateDied</th>\n",
       "      <th>RemovalType</th>\n",
       "      <th>DateRepRem</th>\n",
       "      <th>DateResultRelease</th>\n",
       "      <th>DateRepConf</th>\n",
       "    </tr>\n",
       "  </thead>\n",
       "  <tbody>\n",
       "    <tr>\n",
       "      <th>0</th>\n",
       "      <td>FEMALE</td>\n",
       "      <td>38.0</td>\n",
       "      <td>2020-01-21</td>\n",
       "      <td>NaT</td>\n",
       "      <td>NaT</td>\n",
       "      <td>RECOVERED</td>\n",
       "      <td>2020-02-07</td>\n",
       "      <td>2020-01-30</td>\n",
       "      <td>2020-01-30</td>\n",
       "    </tr>\n",
       "    <tr>\n",
       "      <th>1</th>\n",
       "      <td>MALE</td>\n",
       "      <td>44.0</td>\n",
       "      <td>2020-01-18</td>\n",
       "      <td>NaT</td>\n",
       "      <td>2020-02-01</td>\n",
       "      <td>DIED</td>\n",
       "      <td>2020-02-02</td>\n",
       "      <td>2020-01-30</td>\n",
       "      <td>2020-02-03</td>\n",
       "    </tr>\n",
       "    <tr>\n",
       "      <th>2</th>\n",
       "      <td>FEMALE</td>\n",
       "      <td>60.0</td>\n",
       "      <td>2020-01-21</td>\n",
       "      <td>2020-01-31</td>\n",
       "      <td>NaT</td>\n",
       "      <td>RECOVERED</td>\n",
       "      <td>2020-02-05</td>\n",
       "      <td>2020-01-30</td>\n",
       "      <td>2020-02-05</td>\n",
       "    </tr>\n",
       "    <tr>\n",
       "      <th>3</th>\n",
       "      <td>MALE</td>\n",
       "      <td>49.0</td>\n",
       "      <td>NaT</td>\n",
       "      <td>NaT</td>\n",
       "      <td>NaT</td>\n",
       "      <td>RECOVERED</td>\n",
       "      <td>2020-03-27</td>\n",
       "      <td>NaT</td>\n",
       "      <td>2020-03-06</td>\n",
       "    </tr>\n",
       "    <tr>\n",
       "      <th>4</th>\n",
       "      <td>MALE</td>\n",
       "      <td>63.0</td>\n",
       "      <td>NaT</td>\n",
       "      <td>NaT</td>\n",
       "      <td>2020-03-11</td>\n",
       "      <td>DIED</td>\n",
       "      <td>2020-03-12</td>\n",
       "      <td>NaT</td>\n",
       "      <td>2020-03-06</td>\n",
       "    </tr>\n",
       "  </tbody>\n",
       "</table>\n",
       "</div>"
      ],
      "text/plain": [
       "      Sex   Age  DateOnset DateRecover   DateDied RemovalType DateRepRem  \\\n",
       "0  FEMALE  38.0 2020-01-21         NaT        NaT   RECOVERED 2020-02-07   \n",
       "1    MALE  44.0 2020-01-18         NaT 2020-02-01        DIED 2020-02-02   \n",
       "2  FEMALE  60.0 2020-01-21  2020-01-31        NaT   RECOVERED 2020-02-05   \n",
       "3    MALE  49.0        NaT         NaT        NaT   RECOVERED 2020-03-27   \n",
       "4    MALE  63.0        NaT         NaT 2020-03-11        DIED 2020-03-12   \n",
       "\n",
       "  DateResultRelease DateRepConf  \n",
       "0        2020-01-30  2020-01-30  \n",
       "1        2020-01-30  2020-02-03  \n",
       "2        2020-01-30  2020-02-05  \n",
       "3               NaT  2020-03-06  \n",
       "4               NaT  2020-03-06  "
      ]
     },
     "execution_count": 15,
     "metadata": {},
     "output_type": "execute_result"
    }
   ],
   "source": [
    "doh_df.head()"
   ]
  },
  {
   "cell_type": "code",
   "execution_count": 16,
   "id": "f9d64d7c-c137-4561-9ccb-087ddbe23f80",
   "metadata": {},
   "outputs": [],
   "source": [
    "def calculate_duration(row):\n",
    "    start_date = row['DateOnset']\n",
    "    if pd.isna(start_date):\n",
    "        start_date = row['DateResultRelease']\n",
    "    if pd.isna(start_date):\n",
    "        start_date = row['DateRepConf']\n",
    "    \n",
    "    end_date = row['DateRecover']\n",
    "    if pd.isna(end_date):\n",
    "        end_date = row['DateRepRem']\n",
    "\n",
    "    if pd.notna(start_date) and pd.notna(end_date):\n",
    "        duration = (end_date - start_date).days\n",
    "        if duration < 0:  # Add a check to handle negative durations\n",
    "            return None  \n",
    "        return duration\n",
    "    else:\n",
    "        return None\n",
    "\n",
    "doh_df['CovidDuration'] = doh_df.apply(calculate_duration, axis=1)"
   ]
  },
  {
   "cell_type": "code",
   "execution_count": 17,
   "id": "625a2ffc-65f8-4eaa-8ca8-1afa7391e715",
   "metadata": {},
   "outputs": [],
   "source": [
    "# Creating a Age Group\n",
    "bins = [0, 18, 35, 60, 118]\n",
    "labels = ['0-18', '19-35', '36-60', '61+']\n",
    "doh_df['Age'] = pd.to_numeric(doh_df['Age'], errors='coerce')\n",
    "doh_df['AgeGroup'] = pd.cut(doh_df['Age'], bins=bins, labels=labels, include_lowest=True, right=True)"
   ]
  },
  {
   "cell_type": "code",
   "execution_count": 18,
   "id": "e6e9c5fc-df5c-4d67-8513-cf02bd8c5e83",
   "metadata": {},
   "outputs": [],
   "source": [
    "# Factor in the Sex\n",
    "average_durations_by_sex_and_age = doh_df.groupby(['Sex', 'AgeGroup'], observed=True)['CovidDuration'].mean().to_dict()\n",
    "average_durations_by_age = doh_df.groupby('AgeGroup', observed=True)['CovidDuration'].mean().to_dict()"
   ]
  },
  {
   "cell_type": "code",
   "execution_count": 19,
   "id": "4ab13ddd-1319-44ad-8178-80f7c9d1905c",
   "metadata": {},
   "outputs": [
    {
     "data": {
      "text/html": [
       "<div>\n",
       "<style scoped>\n",
       "    .dataframe tbody tr th:only-of-type {\n",
       "        vertical-align: middle;\n",
       "    }\n",
       "\n",
       "    .dataframe tbody tr th {\n",
       "        vertical-align: top;\n",
       "    }\n",
       "\n",
       "    .dataframe thead th {\n",
       "        text-align: right;\n",
       "    }\n",
       "</style>\n",
       "<table border=\"1\" class=\"dataframe\">\n",
       "  <thead>\n",
       "    <tr style=\"text-align: right;\">\n",
       "      <th></th>\n",
       "      <th>Sex</th>\n",
       "      <th>Age</th>\n",
       "      <th>DateOnset</th>\n",
       "      <th>DateRecover</th>\n",
       "      <th>DateDied</th>\n",
       "      <th>RemovalType</th>\n",
       "      <th>DateRepRem</th>\n",
       "      <th>DateResultRelease</th>\n",
       "      <th>DateRepConf</th>\n",
       "      <th>CovidDuration</th>\n",
       "      <th>AgeGroup</th>\n",
       "    </tr>\n",
       "  </thead>\n",
       "  <tbody>\n",
       "    <tr>\n",
       "      <th>0</th>\n",
       "      <td>FEMALE</td>\n",
       "      <td>38.0</td>\n",
       "      <td>2020-01-21</td>\n",
       "      <td>NaT</td>\n",
       "      <td>NaT</td>\n",
       "      <td>RECOVERED</td>\n",
       "      <td>2020-02-07</td>\n",
       "      <td>2020-01-30</td>\n",
       "      <td>2020-01-30</td>\n",
       "      <td>17.0</td>\n",
       "      <td>36-60</td>\n",
       "    </tr>\n",
       "    <tr>\n",
       "      <th>1</th>\n",
       "      <td>MALE</td>\n",
       "      <td>44.0</td>\n",
       "      <td>2020-01-18</td>\n",
       "      <td>NaT</td>\n",
       "      <td>2020-02-01</td>\n",
       "      <td>DIED</td>\n",
       "      <td>2020-02-02</td>\n",
       "      <td>2020-01-30</td>\n",
       "      <td>2020-02-03</td>\n",
       "      <td>15.0</td>\n",
       "      <td>36-60</td>\n",
       "    </tr>\n",
       "    <tr>\n",
       "      <th>2</th>\n",
       "      <td>FEMALE</td>\n",
       "      <td>60.0</td>\n",
       "      <td>2020-01-21</td>\n",
       "      <td>2020-01-31</td>\n",
       "      <td>NaT</td>\n",
       "      <td>RECOVERED</td>\n",
       "      <td>2020-02-05</td>\n",
       "      <td>2020-01-30</td>\n",
       "      <td>2020-02-05</td>\n",
       "      <td>10.0</td>\n",
       "      <td>36-60</td>\n",
       "    </tr>\n",
       "    <tr>\n",
       "      <th>3</th>\n",
       "      <td>MALE</td>\n",
       "      <td>49.0</td>\n",
       "      <td>NaT</td>\n",
       "      <td>NaT</td>\n",
       "      <td>NaT</td>\n",
       "      <td>RECOVERED</td>\n",
       "      <td>2020-03-27</td>\n",
       "      <td>NaT</td>\n",
       "      <td>2020-03-06</td>\n",
       "      <td>21.0</td>\n",
       "      <td>36-60</td>\n",
       "    </tr>\n",
       "    <tr>\n",
       "      <th>4</th>\n",
       "      <td>MALE</td>\n",
       "      <td>63.0</td>\n",
       "      <td>NaT</td>\n",
       "      <td>NaT</td>\n",
       "      <td>2020-03-11</td>\n",
       "      <td>DIED</td>\n",
       "      <td>2020-03-12</td>\n",
       "      <td>NaT</td>\n",
       "      <td>2020-03-06</td>\n",
       "      <td>6.0</td>\n",
       "      <td>61+</td>\n",
       "    </tr>\n",
       "  </tbody>\n",
       "</table>\n",
       "</div>"
      ],
      "text/plain": [
       "      Sex   Age  DateOnset DateRecover   DateDied RemovalType DateRepRem  \\\n",
       "0  FEMALE  38.0 2020-01-21         NaT        NaT   RECOVERED 2020-02-07   \n",
       "1    MALE  44.0 2020-01-18         NaT 2020-02-01        DIED 2020-02-02   \n",
       "2  FEMALE  60.0 2020-01-21  2020-01-31        NaT   RECOVERED 2020-02-05   \n",
       "3    MALE  49.0        NaT         NaT        NaT   RECOVERED 2020-03-27   \n",
       "4    MALE  63.0        NaT         NaT 2020-03-11        DIED 2020-03-12   \n",
       "\n",
       "  DateResultRelease DateRepConf  CovidDuration AgeGroup  \n",
       "0        2020-01-30  2020-01-30           17.0    36-60  \n",
       "1        2020-01-30  2020-02-03           15.0    36-60  \n",
       "2        2020-01-30  2020-02-05           10.0    36-60  \n",
       "3               NaT  2020-03-06           21.0    36-60  \n",
       "4               NaT  2020-03-06            6.0      61+  "
      ]
     },
     "execution_count": 19,
     "metadata": {},
     "output_type": "execute_result"
    }
   ],
   "source": [
    "doh_df.head()"
   ]
  },
  {
   "cell_type": "markdown",
   "id": "f7e606da-7ded-413d-bfa0-d15f75139eba",
   "metadata": {},
   "source": [
    "## Imputing"
   ]
  },
  {
   "cell_type": "code",
   "execution_count": 20,
   "id": "b5706208-707d-4500-8368-becaef62cfe1",
   "metadata": {},
   "outputs": [],
   "source": [
    "# Reducing the Values Exceeding 30 and to fill in Missing Values in CovidDuration\n",
    "def impute_duration(row):\n",
    "    if pd.isna(row['CovidDuration']):\n",
    "        \n",
    "        return average_durations_by_sex_and_age.get((row['Sex'], row['AgeGroup']), np.nan)  # Use NaN as fallback\n",
    "    elif row['CovidDuration'] > 30:\n",
    "\n",
    "        return average_durations_by_age.get(row['AgeGroup'], row['CovidDuration'])  # Fallback to original if no average\n",
    "    else:\n",
    "        return row['CovidDuration']\n",
    "\n",
    "\n",
    "doh_df['CovidDuration'] = doh_df.apply(impute_duration, axis=1)"
   ]
  },
  {
   "cell_type": "code",
   "execution_count": 21,
   "id": "50bfd0ad-9c02-468a-9a55-616e236e0a4a",
   "metadata": {},
   "outputs": [
    {
     "name": "stdout",
     "output_type": "stream",
     "text": [
      "      Sex   Age AgeGroup  CovidDuration\n",
      "0  FEMALE  38.0    36-60           17.0\n",
      "1    MALE  44.0    36-60           15.0\n",
      "2  FEMALE  60.0    36-60           10.0\n",
      "3    MALE  49.0    36-60           21.0\n",
      "4    MALE  63.0      61+            6.0\n"
     ]
    }
   ],
   "source": [
    "print(f\"{doh_df[['Sex', 'Age', 'AgeGroup', 'CovidDuration']].head()}\")"
   ]
  },
  {
   "cell_type": "code",
   "execution_count": 22,
   "id": "fde70999-44f4-4df6-b0f2-fe028981307e",
   "metadata": {},
   "outputs": [
    {
     "name": "stdout",
     "output_type": "stream",
     "text": [
      "Number of entries with CovidDuration greater than 30 days: 0\n"
     ]
    }
   ],
   "source": [
    "count_over_30 = (doh_df['CovidDuration'] > 30).sum()\n",
    "print(f'Number of entries with CovidDuration greater than 30 days: {count_over_30}')"
   ]
  },
  {
   "cell_type": "code",
   "execution_count": 23,
   "id": "63380907-3fc4-4eda-86aa-b19f6293287e",
   "metadata": {},
   "outputs": [
    {
     "data": {
      "text/plain": [
       "Sex                        0\n",
       "Age                        0\n",
       "DateOnset            2690211\n",
       "DateRecover          3393511\n",
       "DateDied             4057210\n",
       "RemovalType                0\n",
       "DateRepRem            134046\n",
       "DateResultRelease    1107829\n",
       "DateRepConf           134046\n",
       "CovidDuration              0\n",
       "AgeGroup                   0\n",
       "dtype: int64"
      ]
     },
     "execution_count": 23,
     "metadata": {},
     "output_type": "execute_result"
    }
   ],
   "source": [
    "doh_df.isnull().sum()"
   ]
  },
  {
   "cell_type": "code",
   "execution_count": 24,
   "id": "37042f46-eeb1-48b9-93f6-44ab3386d14c",
   "metadata": {},
   "outputs": [],
   "source": [
    "# Remove the Decimals\n",
    "doh_df['CovidDuration'] = doh_df['CovidDuration'].round().astype(int)"
   ]
  },
  {
   "cell_type": "code",
   "execution_count": 25,
   "id": "bd519988-f82b-4dc0-9d2a-5371f7b3ea35",
   "metadata": {},
   "outputs": [
    {
     "data": {
      "text/html": [
       "<div>\n",
       "<style scoped>\n",
       "    .dataframe tbody tr th:only-of-type {\n",
       "        vertical-align: middle;\n",
       "    }\n",
       "\n",
       "    .dataframe tbody tr th {\n",
       "        vertical-align: top;\n",
       "    }\n",
       "\n",
       "    .dataframe thead th {\n",
       "        text-align: right;\n",
       "    }\n",
       "</style>\n",
       "<table border=\"1\" class=\"dataframe\">\n",
       "  <thead>\n",
       "    <tr style=\"text-align: right;\">\n",
       "      <th></th>\n",
       "      <th>Sex</th>\n",
       "      <th>Age</th>\n",
       "      <th>DateOnset</th>\n",
       "      <th>DateRecover</th>\n",
       "      <th>DateDied</th>\n",
       "      <th>RemovalType</th>\n",
       "      <th>DateRepRem</th>\n",
       "      <th>DateResultRelease</th>\n",
       "      <th>DateRepConf</th>\n",
       "      <th>CovidDuration</th>\n",
       "      <th>AgeGroup</th>\n",
       "    </tr>\n",
       "  </thead>\n",
       "  <tbody>\n",
       "    <tr>\n",
       "      <th>0</th>\n",
       "      <td>FEMALE</td>\n",
       "      <td>38.0</td>\n",
       "      <td>2020-01-21</td>\n",
       "      <td>NaT</td>\n",
       "      <td>NaT</td>\n",
       "      <td>RECOVERED</td>\n",
       "      <td>2020-02-07</td>\n",
       "      <td>2020-01-30</td>\n",
       "      <td>2020-01-30</td>\n",
       "      <td>17</td>\n",
       "      <td>36-60</td>\n",
       "    </tr>\n",
       "    <tr>\n",
       "      <th>1</th>\n",
       "      <td>MALE</td>\n",
       "      <td>44.0</td>\n",
       "      <td>2020-01-18</td>\n",
       "      <td>NaT</td>\n",
       "      <td>2020-02-01</td>\n",
       "      <td>DIED</td>\n",
       "      <td>2020-02-02</td>\n",
       "      <td>2020-01-30</td>\n",
       "      <td>2020-02-03</td>\n",
       "      <td>15</td>\n",
       "      <td>36-60</td>\n",
       "    </tr>\n",
       "    <tr>\n",
       "      <th>2</th>\n",
       "      <td>FEMALE</td>\n",
       "      <td>60.0</td>\n",
       "      <td>2020-01-21</td>\n",
       "      <td>2020-01-31</td>\n",
       "      <td>NaT</td>\n",
       "      <td>RECOVERED</td>\n",
       "      <td>2020-02-05</td>\n",
       "      <td>2020-01-30</td>\n",
       "      <td>2020-02-05</td>\n",
       "      <td>10</td>\n",
       "      <td>36-60</td>\n",
       "    </tr>\n",
       "    <tr>\n",
       "      <th>3</th>\n",
       "      <td>MALE</td>\n",
       "      <td>49.0</td>\n",
       "      <td>NaT</td>\n",
       "      <td>NaT</td>\n",
       "      <td>NaT</td>\n",
       "      <td>RECOVERED</td>\n",
       "      <td>2020-03-27</td>\n",
       "      <td>NaT</td>\n",
       "      <td>2020-03-06</td>\n",
       "      <td>21</td>\n",
       "      <td>36-60</td>\n",
       "    </tr>\n",
       "    <tr>\n",
       "      <th>4</th>\n",
       "      <td>MALE</td>\n",
       "      <td>63.0</td>\n",
       "      <td>NaT</td>\n",
       "      <td>NaT</td>\n",
       "      <td>2020-03-11</td>\n",
       "      <td>DIED</td>\n",
       "      <td>2020-03-12</td>\n",
       "      <td>NaT</td>\n",
       "      <td>2020-03-06</td>\n",
       "      <td>6</td>\n",
       "      <td>61+</td>\n",
       "    </tr>\n",
       "  </tbody>\n",
       "</table>\n",
       "</div>"
      ],
      "text/plain": [
       "      Sex   Age  DateOnset DateRecover   DateDied RemovalType DateRepRem  \\\n",
       "0  FEMALE  38.0 2020-01-21         NaT        NaT   RECOVERED 2020-02-07   \n",
       "1    MALE  44.0 2020-01-18         NaT 2020-02-01        DIED 2020-02-02   \n",
       "2  FEMALE  60.0 2020-01-21  2020-01-31        NaT   RECOVERED 2020-02-05   \n",
       "3    MALE  49.0        NaT         NaT        NaT   RECOVERED 2020-03-27   \n",
       "4    MALE  63.0        NaT         NaT 2020-03-11        DIED 2020-03-12   \n",
       "\n",
       "  DateResultRelease DateRepConf  CovidDuration AgeGroup  \n",
       "0        2020-01-30  2020-01-30             17    36-60  \n",
       "1        2020-01-30  2020-02-03             15    36-60  \n",
       "2        2020-01-30  2020-02-05             10    36-60  \n",
       "3               NaT  2020-03-06             21    36-60  \n",
       "4               NaT  2020-03-06              6      61+  "
      ]
     },
     "execution_count": 25,
     "metadata": {},
     "output_type": "execute_result"
    }
   ],
   "source": [
    "doh_df.head()"
   ]
  },
  {
   "cell_type": "markdown",
   "id": "dfc55f63-cce6-427a-9d74-4fb04933292e",
   "metadata": {},
   "source": [
    "## Explanatory Data Analysis"
   ]
  },
  {
   "cell_type": "code",
   "execution_count": 26,
   "id": "868d7c20-8e53-40c5-88b2-d4c9260d9ef8",
   "metadata": {},
   "outputs": [
    {
     "data": {
      "image/png": "[encoded data removed]",
      "text/plain": [
       "<Figure size 1000x600 with 1 Axes>"
      ]
     },
     "metadata": {},
     "output_type": "display_data"
    }
   ],
   "source": [
    "# Boxplot for 'CovidDuration' by 'Sex'\n",
    "plt.figure(figsize=(10, 6))\n",
    "sns.boxplot(x='Sex', y='CovidDuration', data=doh_df)\n",
    "plt.title('Covid Duration by Sex')\n",
    "plt.xlabel('Sex')\n",
    "plt.ylabel('Covid Duration (days)')\n",
    "plt.show()"
   ]
  },
  {
   "cell_type": "code",
   "execution_count": 27,
   "id": "254220bb-8052-4cee-bbc3-2afcf07a35dd",
   "metadata": {},
   "outputs": [
    {
     "data": {
      "image/png": "[encoded data removed]",
      "text/plain": [
       "<Figure size 1000x600 with 1 Axes>"
      ]
     },
     "metadata": {},
     "output_type": "display_data"
    }
   ],
   "source": [
    "# Boxplot for 'CovidDuration' by 'AgeGroup'\n",
    "plt.figure(figsize=(10, 6))\n",
    "sns.boxplot(x='AgeGroup', y='CovidDuration', data=doh_df)\n",
    "plt.title('Covid Duration by Age Group')\n",
    "plt.xlabel('Age Group')\n",
    "plt.ylabel('Covid Duration (days)')\n",
    "plt.show()"
   ]
  },
  {
   "cell_type": "code",
   "execution_count": 28,
   "id": "71e30877-2404-4f35-9c32-a4c58dd371fd",
   "metadata": {},
   "outputs": [
    {
     "data": {
      "image/png": "[encoded data removed]",
      "text/plain": [
       "<Figure size 1000x600 with 1 Axes>"
      ]
     },
     "metadata": {},
     "output_type": "display_data"
    }
   ],
   "source": [
    "# Since 'RemovalType' is a categorical variable, we use seaborn's countplot instead of a boxplot\n",
    "plt.figure(figsize=(10, 6))\n",
    "sns.countplot(x='Sex', hue='RemovalType', data=doh_df)\n",
    "plt.title('Removal Type by Sex')\n",
    "plt.xlabel('Sex')\n",
    "plt.ylabel('Count')\n",
    "plt.legend(title='Removal Type')\n",
    "plt.show()"
   ]
  },
  {
   "cell_type": "code",
   "execution_count": 29,
   "id": "07152927-7c05-4d7b-9b54-48bf15c71998",
   "metadata": {},
   "outputs": [],
   "source": [
    "doh_df['event_observed'] = doh_df['RemovalType'].apply(lambda x: 1 if x == 'DIED' else 0)\n",
    "\n",
    "date_columns = ['DateOnset', 'DateRecover', 'DateDied', 'DateRepRem', 'DateResultRelease', 'DateRepConf']\n",
    "for col in date_columns:\n",
    "    doh_df[col] = pd.to_datetime(doh_df[col], errors='coerce')"
   ]
  },
  {
   "cell_type": "code",
   "execution_count": 30,
   "id": "d8af6d1a-d871-4e07-a99e-944cef6e5418",
   "metadata": {},
   "outputs": [
    {
     "data": {
      "image/png": "[encoded data removed]",
      "text/plain": [
       "<Figure size 1000x600 with 1 Axes>"
      ]
     },
     "metadata": {},
     "output_type": "display_data"
    }
   ],
   "source": [
    "kmf = KaplanMeierFitter()\n",
    "\n",
    "fig, ax = plt.subplots(figsize=(10, 6))\n",
    "\n",
    "for sex in doh_df['Sex'].unique():\n",
    "    mask = doh_df['Sex'] == sex\n",
    "    duration = doh_df.loc[mask, 'CovidDuration']\n",
    "    event_observed = doh_df.loc[mask, 'event_observed']\n",
    "\n",
    "    kmf.fit(duration, event_observed, label=sex)\n",
    "    kmf.plot_survival_function(ax=ax)\n",
    "\n",
    "plt.title('Survival Functions for Different Sexes')\n",
    "plt.xlabel('Days')\n",
    "plt.ylabel('Survival Probability')\n",
    "plt.show()"
   ]
  },
  {
   "cell_type": "code",
   "execution_count": 31,
   "id": "a0923dc3-4f36-44ee-a0d7-8e8dca418d75",
   "metadata": {},
   "outputs": [
    {
     "data": {
      "image/png": "[encoded data removed]",
      "text/plain": [
       "<Figure size 1000x600 with 1 Axes>"
      ]
     },
     "metadata": {},
     "output_type": "display_data"
    }
   ],
   "source": [
    "fig, ax = plt.subplots(figsize=(10, 6))\n",
    "\n",
    "for group in doh_df['AgeGroup'].unique():\n",
    "    mask = doh_df['AgeGroup'] == group\n",
    "    duration = doh_df.loc[mask, 'CovidDuration']\n",
    "    event_observed = doh_df.loc[mask, 'event_observed']\n",
    "\n",
    "    kmf.fit(duration, event_observed, label=group)\n",
    "    kmf.plot_survival_function(ax=ax)\n",
    "\n",
    "plt.title('Survival Functions for Different Age Groups')\n",
    "plt.xlabel('Days')\n",
    "plt.ylabel('Survival Probability')\n",
    "plt.show()"
   ]
  }
 ],
 "metadata": {
  "kernelspec": {
   "display_name": "Python 3 (ipykernel)",
   "language": "python",
   "name": "python3"
  },
  "language_info": {
   "codemirror_mode": {
    "name": "ipython",
    "version": 3
   },
   "file_extension": ".py",
   "mimetype": "text/x-python",
   "name": "python",
   "nbconvert_exporter": "python",
   "pygments_lexer": "ipython3",
   "version": "3.10.9"
  }
 },
 "nbformat": 4,
 "nbformat_minor": 5
}
